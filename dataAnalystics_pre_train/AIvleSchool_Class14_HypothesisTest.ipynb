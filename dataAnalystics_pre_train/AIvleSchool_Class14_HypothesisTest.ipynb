{
 "cells": [
  {
   "cell_type": "markdown",
   "id": "ec3f8db0",
   "metadata": {},
   "source": [
    "## 5.1 가설 검정\n",
    "### 두 집단 평균 비교 -- 독립 표본 t-test(independent sample t-test)\n",
    " * 목체: 독립된 두 표본집단의 평균 차이에 대한 가설 검정\n",
    " * 예제: K 모바일 대리점 내부 인테리어 종류에 따라 고객 선호도에 대한 차이가 통계적으로 유의미한지 확인해본다.\n",
    " \n",
    "(note: 마케팅 분야에서 AB테스트시 두 집단의 평균에 차이가 있는지 검정할 때 주로 사용된다)\n",
    "\n",
    "__귀무가설__( $H_0$ ): 내부 인테리어 종류에 따라 고객 선호도에 차이가 없다.<br>\n",
    "__대립가설__( $H_1$ ): 내부 인테리어 종류에 따라 고객 선호도에 차이가 있다."
   ]
  },
  {
   "cell_type": "code",
   "execution_count": 5,
   "id": "2c0c18cc",
   "metadata": {},
   "outputs": [],
   "source": [
    "# 필요 라이브러리 로딩\n",
    "import numpy as np\n",
    "import pandas as pd\n",
    "\n",
    "from scipy import stats # scipy: 수학, 과학, 공학에 특화된 라이브러리\n",
    "\n",
    "import matplotlib.pyplot as plt\n",
    "import seaborn as sns"
   ]
  },
  {
   "cell_type": "code",
   "execution_count": null,
   "id": "21f4ba5e",
   "metadata": {},
   "outputs": [],
   "source": [
    "# 데이터 로딩\n",
    "df = pd.read_csv"
   ]
  }
 ],
 "metadata": {
  "kernelspec": {
   "display_name": "tensorflow",
   "language": "python",
   "name": "python3"
  },
  "language_info": {
   "codemirror_mode": {
    "name": "ipython",
    "version": 3
   },
   "file_extension": ".py",
   "mimetype": "text/x-python",
   "name": "python",
   "nbconvert_exporter": "python",
   "pygments_lexer": "ipython3",
   "version": "3.9.15"
  }
 },
 "nbformat": 4,
 "nbformat_minor": 5
}
