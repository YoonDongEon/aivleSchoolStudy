{
 "cells": [
  {
   "cell_type": "code",
   "execution_count": 1,
   "metadata": {
    "colab": {
     "base_uri": "https://localhost:8080/"
    },
    "executionInfo": {
     "elapsed": 25123,
     "status": "ok",
     "timestamp": 1703124432696,
     "user": {
      "displayName": "안이",
      "userId": "11737815484813947023"
     },
     "user_tz": -540
    },
    "id": "cpUy7yiyXA-7",
    "outputId": "dc855467-c8e6-48f0-d859-34bdad6b9f97"
   },
   "outputs": [
    {
     "name": "stdout",
     "output_type": "stream",
     "text": [
      "Mounted at /content/drive\n"
     ]
    }
   ],
   "source": [
    "from google.colab import drive\n",
    "drive.mount('/content/drive')"
   ]
  },
  {
   "cell_type": "code",
   "execution_count": 2,
   "metadata": {
    "colab": {
     "base_uri": "https://localhost:8080/",
     "height": 36
    },
    "executionInfo": {
     "elapsed": 511,
     "status": "ok",
     "timestamp": 1703124439856,
     "user": {
      "displayName": "안이",
      "userId": "11737815484813947023"
     },
     "user_tz": -540
    },
    "id": "IRm4NNjgXD_b",
    "outputId": "ea0b459d-9545-4da9-9ed4-a36b51c840f6"
   },
   "outputs": [
    {
     "data": {
      "application/vnd.google.colaboratory.intrinsic+json": {
       "type": "string"
      },
      "text/plain": [
       "'/content'"
      ]
     },
     "execution_count": 2,
     "metadata": {},
     "output_type": "execute_result"
    }
   ],
   "source": [
    "%pwd"
   ]
  },
  {
   "cell_type": "code",
   "execution_count": 3,
   "metadata": {
    "colab": {
     "base_uri": "https://localhost:8080/",
     "height": 1000
    },
    "executionInfo": {
     "elapsed": 30935,
     "status": "ok",
     "timestamp": 1703124475495,
     "user": {
      "displayName": "안이",
      "userId": "11737815484813947023"
     },
     "user_tz": -540
    },
    "id": "iA-B7VVBXOUh",
    "outputId": "ce2964e9-914f-4553-c01c-e3dbdc154c8d"
   },
   "outputs": [
    {
     "name": "stdout",
     "output_type": "stream",
     "text": [
      "Collecting roboflow\n",
      "  Downloading roboflow-1.1.12-py3-none-any.whl (68 kB)\n",
      "\u001b[2K     \u001b[90m━━━━━━━━━━━━━━━━━━━━━━━━━━━━━━━━━━━━━━━━\u001b[0m \u001b[32m68.5/68.5 kB\u001b[0m \u001b[31m2.6 MB/s\u001b[0m eta \u001b[36m0:00:00\u001b[0m\n",
      "\u001b[?25hCollecting certifi==2023.7.22 (from roboflow)\n",
      "  Downloading certifi-2023.7.22-py3-none-any.whl (158 kB)\n",
      "\u001b[2K     \u001b[90m━━━━━━━━━━━━━━━━━━━━━━━━━━━━━━━━━━━━━━━━\u001b[0m \u001b[32m158.3/158.3 kB\u001b[0m \u001b[31m8.8 MB/s\u001b[0m eta \u001b[36m0:00:00\u001b[0m\n",
      "\u001b[?25hCollecting chardet==4.0.0 (from roboflow)\n",
      "  Downloading chardet-4.0.0-py2.py3-none-any.whl (178 kB)\n",
      "\u001b[2K     \u001b[90m━━━━━━━━━━━━━━━━━━━━━━━━━━━━━━━━━━━━━━━━\u001b[0m \u001b[32m178.7/178.7 kB\u001b[0m \u001b[31m13.3 MB/s\u001b[0m eta \u001b[36m0:00:00\u001b[0m\n",
      "\u001b[?25hCollecting cycler==0.10.0 (from roboflow)\n",
      "  Downloading cycler-0.10.0-py2.py3-none-any.whl (6.5 kB)\n",
      "Collecting idna==2.10 (from roboflow)\n",
      "  Downloading idna-2.10-py2.py3-none-any.whl (58 kB)\n",
      "\u001b[2K     \u001b[90m━━━━━━━━━━━━━━━━━━━━━━━━━━━━━━━━━━━━━━━━\u001b[0m \u001b[32m58.8/58.8 kB\u001b[0m \u001b[31m9.3 MB/s\u001b[0m eta \u001b[36m0:00:00\u001b[0m\n",
      "\u001b[?25hRequirement already satisfied: kiwisolver>=1.3.1 in /usr/local/lib/python3.10/dist-packages (from roboflow) (1.4.5)\n",
      "Requirement already satisfied: matplotlib in /usr/local/lib/python3.10/dist-packages (from roboflow) (3.7.1)\n",
      "Requirement already satisfied: numpy>=1.18.5 in /usr/local/lib/python3.10/dist-packages (from roboflow) (1.23.5)\n",
      "Collecting opencv-python-headless==4.8.0.74 (from roboflow)\n",
      "  Downloading opencv_python_headless-4.8.0.74-cp37-abi3-manylinux_2_17_x86_64.manylinux2014_x86_64.whl (49.1 MB)\n",
      "\u001b[2K     \u001b[90m━━━━━━━━━━━━━━━━━━━━━━━━━━━━━━━━━━━━━━━━\u001b[0m \u001b[32m49.1/49.1 MB\u001b[0m \u001b[31m9.9 MB/s\u001b[0m eta \u001b[36m0:00:00\u001b[0m\n",
      "\u001b[?25hRequirement already satisfied: Pillow>=7.1.2 in /usr/local/lib/python3.10/dist-packages (from roboflow) (9.4.0)\n",
      "Collecting pyparsing==2.4.7 (from roboflow)\n",
      "  Downloading pyparsing-2.4.7-py2.py3-none-any.whl (67 kB)\n",
      "\u001b[2K     \u001b[90m━━━━━━━━━━━━━━━━━━━━━━━━━━━━━━━━━━━━━━━━\u001b[0m \u001b[32m67.8/67.8 kB\u001b[0m \u001b[31m10.1 MB/s\u001b[0m eta \u001b[36m0:00:00\u001b[0m\n",
      "\u001b[?25hRequirement already satisfied: python-dateutil in /usr/local/lib/python3.10/dist-packages (from roboflow) (2.8.2)\n",
      "Collecting python-dotenv (from roboflow)\n",
      "  Downloading python_dotenv-1.0.0-py3-none-any.whl (19 kB)\n",
      "Requirement already satisfied: requests in /usr/local/lib/python3.10/dist-packages (from roboflow) (2.31.0)\n",
      "Requirement already satisfied: six in /usr/local/lib/python3.10/dist-packages (from roboflow) (1.16.0)\n",
      "Collecting supervision (from roboflow)\n",
      "  Downloading supervision-0.17.1-py3-none-any.whl (77 kB)\n",
      "\u001b[2K     \u001b[90m━━━━━━━━━━━━━━━━━━━━━━━━━━━━━━━━━━━━━━━━\u001b[0m \u001b[32m77.5/77.5 kB\u001b[0m \u001b[31m10.5 MB/s\u001b[0m eta \u001b[36m0:00:00\u001b[0m\n",
      "\u001b[?25hRequirement already satisfied: urllib3>=1.26.6 in /usr/local/lib/python3.10/dist-packages (from roboflow) (2.0.7)\n",
      "Requirement already satisfied: tqdm>=4.41.0 in /usr/local/lib/python3.10/dist-packages (from roboflow) (4.66.1)\n",
      "Requirement already satisfied: PyYAML>=5.3.1 in /usr/local/lib/python3.10/dist-packages (from roboflow) (6.0.1)\n",
      "Collecting requests-toolbelt (from roboflow)\n",
      "  Downloading requests_toolbelt-1.0.0-py2.py3-none-any.whl (54 kB)\n",
      "\u001b[2K     \u001b[90m━━━━━━━━━━━━━━━━━━━━━━━━━━━━━━━━━━━━━━━━\u001b[0m \u001b[32m54.5/54.5 kB\u001b[0m \u001b[31m7.9 MB/s\u001b[0m eta \u001b[36m0:00:00\u001b[0m\n",
      "\u001b[?25hCollecting python-magic (from roboflow)\n",
      "  Downloading python_magic-0.4.27-py2.py3-none-any.whl (13 kB)\n",
      "Requirement already satisfied: contourpy>=1.0.1 in /usr/local/lib/python3.10/dist-packages (from matplotlib->roboflow) (1.2.0)\n",
      "Requirement already satisfied: fonttools>=4.22.0 in /usr/local/lib/python3.10/dist-packages (from matplotlib->roboflow) (4.46.0)\n",
      "Requirement already satisfied: packaging>=20.0 in /usr/local/lib/python3.10/dist-packages (from matplotlib->roboflow) (23.2)\n",
      "Requirement already satisfied: charset-normalizer<4,>=2 in /usr/local/lib/python3.10/dist-packages (from requests->roboflow) (3.3.2)\n",
      "Requirement already satisfied: scipy>=1.9.0 in /usr/local/lib/python3.10/dist-packages (from supervision->roboflow) (1.11.4)\n",
      "Installing collected packages: python-magic, python-dotenv, pyparsing, opencv-python-headless, idna, cycler, chardet, certifi, supervision, requests-toolbelt, roboflow\n",
      "  Attempting uninstall: pyparsing\n",
      "    Found existing installation: pyparsing 3.1.1\n",
      "    Uninstalling pyparsing-3.1.1:\n",
      "      Successfully uninstalled pyparsing-3.1.1\n",
      "  Attempting uninstall: opencv-python-headless\n",
      "    Found existing installation: opencv-python-headless 4.8.1.78\n",
      "    Uninstalling opencv-python-headless-4.8.1.78:\n",
      "      Successfully uninstalled opencv-python-headless-4.8.1.78\n",
      "  Attempting uninstall: idna\n",
      "    Found existing installation: idna 3.6\n",
      "    Uninstalling idna-3.6:\n",
      "      Successfully uninstalled idna-3.6\n",
      "  Attempting uninstall: cycler\n",
      "    Found existing installation: cycler 0.12.1\n",
      "    Uninstalling cycler-0.12.1:\n",
      "      Successfully uninstalled cycler-0.12.1\n",
      "  Attempting uninstall: chardet\n",
      "    Found existing installation: chardet 5.2.0\n",
      "    Uninstalling chardet-5.2.0:\n",
      "      Successfully uninstalled chardet-5.2.0\n",
      "  Attempting uninstall: certifi\n",
      "    Found existing installation: certifi 2023.11.17\n",
      "    Uninstalling certifi-2023.11.17:\n",
      "      Successfully uninstalled certifi-2023.11.17\n",
      "\u001b[31mERROR: pip's dependency resolver does not currently take into account all the packages that are installed. This behaviour is the source of the following dependency conflicts.\n",
      "lida 0.0.10 requires fastapi, which is not installed.\n",
      "lida 0.0.10 requires kaleido, which is not installed.\n",
      "lida 0.0.10 requires python-multipart, which is not installed.\n",
      "lida 0.0.10 requires uvicorn, which is not installed.\u001b[0m\u001b[31m\n",
      "\u001b[0mSuccessfully installed certifi-2023.7.22 chardet-4.0.0 cycler-0.10.0 idna-2.10 opencv-python-headless-4.8.0.74 pyparsing-2.4.7 python-dotenv-1.0.0 python-magic-0.4.27 requests-toolbelt-1.0.0 roboflow-1.1.12 supervision-0.17.1\n"
     ]
    },
    {
     "data": {
      "application/vnd.colab-display-data+json": {
       "pip_warning": {
        "packages": [
         "certifi",
         "cycler",
         "pyparsing"
        ]
       }
      }
     },
     "metadata": {},
     "output_type": "display_data"
    },
    {
     "name": "stdout",
     "output_type": "stream",
     "text": [
      "loading Roboflow workspace...\n",
      "loading Roboflow project...\n"
     ]
    },
    {
     "name": "stderr",
     "output_type": "stream",
     "text": [
      "Downloading Dataset Version Zip in blind-man-9 to yolov5pytorch:: 100%|██████████| 296819/296819 [00:09<00:00, 31282.16it/s]"
     ]
    },
    {
     "name": "stdout",
     "output_type": "stream",
     "text": [
      "\n"
     ]
    },
    {
     "name": "stderr",
     "output_type": "stream",
     "text": [
      "\n",
      "Extracting Dataset Version Zip to blind-man-9 in yolov5pytorch:: 100%|██████████| 8783/8783 [00:02<00:00, 4123.59it/s]\n"
     ]
    }
   ],
   "source": [
    "!pip install roboflow\n",
    "\n",
    "from roboflow import Roboflow\n",
    "rf = Roboflow(api_key=\"XzjYCXE480gEXboQJ53V\")\n",
    "project = rf.workspace(\"bigp\").project(\"blind-man\")\n",
    "dataset = project.version(9).download(\"yolov5\")\n"
   ]
  },
  {
   "cell_type": "code",
   "execution_count": 4,
   "metadata": {
    "executionInfo": {
     "elapsed": 8,
     "status": "ok",
     "timestamp": 1703124475495,
     "user": {
      "displayName": "안이",
      "userId": "11737815484813947023"
     },
     "user_tz": -540
    },
    "id": "rMTjTkeMXVIf"
   },
   "outputs": [],
   "source": [
    "# 필요 라이브러리 불러오기\n",
    "import glob\n",
    "\n",
    "#################### 함께해보기 - DATA_PATH, TRAIN_PATH, VALIDATION_PATH 지정해보기\n",
    "# DATA_PATH(Hard-Hat-Workers-2), TRAIN_PATH(Hard-Hat-Workers-2/train),  VALIDATION_PATH(Hard-Hat-Workers-2/test)  지정하기\n",
    "DATA_PATH = '/content/blind-man-9'\n",
    "TRAIN_PATH = \"/content/blind-man-9/train\"\n",
    "VALIDATION_PATH =  \"/content/blind-man-9/valid\"\n",
    "##################### 함께해보기 - 해당 폴더안에 있는 jpg형태의 파일명(폴더명포함)을 리스트 형태로 저장해 보기\n",
    "# glob 모듈의 glob 함수을 통해  조건에 맞는 파일명을 리스트 형식으로 저장\n",
    "# (train_image_list에 train 폴더의 image리스트 저장하기) (validation_image_list에 VALIDATION 폴더의 image리스트 저장하기)\n",
    "train_image_list = glob.glob(TRAIN_PATH+\"/images/*.jpg\")\n",
    "validation_image_list = glob.glob(VALIDATION_PATH+\"/images/*.jpg\")"
   ]
  },
  {
   "cell_type": "code",
   "execution_count": 5,
   "metadata": {
    "colab": {
     "base_uri": "https://localhost:8080/"
    },
    "executionInfo": {
     "elapsed": 7,
     "status": "ok",
     "timestamp": 1703124475495,
     "user": {
      "displayName": "안이",
      "userId": "11737815484813947023"
     },
     "user_tz": -540
    },
    "id": "nS4Gqkq0XsQc",
    "outputId": "e3600e4f-fc76-4712-db49-60c4c9ba3d6f"
   },
   "outputs": [
    {
     "name": "stdout",
     "output_type": "stream",
     "text": [
      "학습 데이터(이미지) 개수 : 3443\n",
      "검증 데이터(이미지) 개수 : 944\n"
     ]
    }
   ],
   "source": [
    "\n",
    "print(\"학습 데이터(이미지) 개수 : \" + str(len(train_image_list)))\n",
    "print(\"검증 데이터(이미지) 개수 : \" + str(len(validation_image_list)))"
   ]
  },
  {
   "cell_type": "code",
   "execution_count": 6,
   "metadata": {
    "executionInfo": {
     "elapsed": 6,
     "status": "ok",
     "timestamp": 1703124475495,
     "user": {
      "displayName": "안이",
      "userId": "11737815484813947023"
     },
     "user_tz": -540
    },
    "id": "c9VGkf3tXvIs"
   },
   "outputs": [],
   "source": [
    "with open(DATA_PATH + '/train.txt', 'w') as f:\n",
    "    f.write('\\n'.join(train_image_list) + '\\n')\n",
    "\n",
    "######################### 함께 해보기 - \"Hard-Hat-Workers-2\"폴더 즉, 데이터 폴더 밑에 validation.txt 생성 후 저장하기\n",
    "# \"Hard-Hat-Workers-2\" 폴더에 validation.txt 파일을 생성 한 후에 앞서 저장된 validation_image_list 파일 리스트를 저장하세요\n",
    "with open(DATA_PATH + '/validation.txt', 'w') as f:\n",
    "    f.write('\\n'.join(validation_image_list) + '\\n')"
   ]
  },
  {
   "cell_type": "code",
   "execution_count": 7,
   "metadata": {
    "colab": {
     "base_uri": "https://localhost:8080/"
    },
    "executionInfo": {
     "elapsed": 6,
     "status": "ok",
     "timestamp": 1703124475495,
     "user": {
      "displayName": "안이",
      "userId": "11737815484813947023"
     },
     "user_tz": -540
    },
    "id": "iRHAiwPNX0BO",
    "outputId": "77568de8-a950-41e2-9694-662e8a3ae2bc"
   },
   "outputs": [
    {
     "name": "stdout",
     "output_type": "stream",
     "text": [
      "{'names': ['guide dog', 'whiteCane'], 'nc': 2, 'roboflow': {'license': 'CC BY 4.0', 'project': 'blind-man', 'url': 'https://universe.roboflow.com/bigp/blind-man/dataset/9', 'version': 9, 'workspace': 'bigp'}, 'test': '../test/images', 'train': 'blind-man-9/train/images', 'val': 'blind-man-9/valid/images'}\n",
      "<class 'dict'>\n"
     ]
    }
   ],
   "source": [
    "import yaml\n",
    "\n",
    "# yaml 데이터를 열어서(로딩) data라는 변수에 정보를 딕셔너리 형태로 저장\n",
    "with open('/content/blind-man-9/data.yaml', 'r') as f:\n",
    "  data = yaml.load(f, Loader=yaml.FullLoader)\n",
    "\n",
    "print(data)\n",
    "print(type(data))"
   ]
  },
  {
   "cell_type": "code",
   "execution_count": 8,
   "metadata": {
    "executionInfo": {
     "elapsed": 5,
     "status": "ok",
     "timestamp": 1703124475495,
     "user": {
      "displayName": "안이",
      "userId": "11737815484813947023"
     },
     "user_tz": -540
    },
    "id": "AffCLChBX5Sm"
   },
   "outputs": [],
   "source": [
    "data['train'] = '/content/blind-man-9/train.txt'\n",
    "data['val'] = '/content/blind-man-9/validation.txt'\n",
    "\n",
    "# 변경된 'data' dictionary 를 Yaml 파일로 변경하여 저장\n",
    "with open(DATA_PATH + '/data.yaml', 'w') as f:\n",
    "  yaml.dump(data, f)"
   ]
  },
  {
   "cell_type": "code",
   "execution_count": 9,
   "metadata": {
    "colab": {
     "base_uri": "https://localhost:8080/"
    },
    "executionInfo": {
     "elapsed": 2154,
     "status": "ok",
     "timestamp": 1703124477644,
     "user": {
      "displayName": "안이",
      "userId": "11737815484813947023"
     },
     "user_tz": -540
    },
    "id": "QDIMMtCYYDcc",
    "outputId": "5af46b50-c394-4775-b111-777fdeeaad65"
   },
   "outputs": [
    {
     "name": "stdout",
     "output_type": "stream",
     "text": [
      "Cloning into 'yolov5'...\n",
      "remote: Enumerating objects: 16114, done.\u001b[K\n",
      "remote: Counting objects: 100% (25/25), done.\u001b[K\n",
      "remote: Compressing objects: 100% (24/24), done.\u001b[K\n",
      "remote: Total 16114 (delta 8), reused 9 (delta 1), pack-reused 16089\u001b[K\n",
      "Receiving objects: 100% (16114/16114), 14.84 MiB | 27.23 MiB/s, done.\n",
      "Resolving deltas: 100% (11027/11027), done.\n"
     ]
    }
   ],
   "source": [
    "!git clone https://github.com/ultralytics/yolov5"
   ]
  },
  {
   "cell_type": "code",
   "execution_count": 10,
   "metadata": {
    "colab": {
     "base_uri": "https://localhost:8080/",
     "height": 36
    },
    "executionInfo": {
     "elapsed": 6,
     "status": "ok",
     "timestamp": 1703124477644,
     "user": {
      "displayName": "안이",
      "userId": "11737815484813947023"
     },
     "user_tz": -540
    },
    "id": "f6U2ZD7lYFlM",
    "outputId": "47681970-f3d8-445c-dd91-c1d89cb837c1"
   },
   "outputs": [
    {
     "data": {
      "application/vnd.google.colaboratory.intrinsic+json": {
       "type": "string"
      },
      "text/plain": [
       "'/content'"
      ]
     },
     "execution_count": 10,
     "metadata": {},
     "output_type": "execute_result"
    }
   ],
   "source": [
    "%pwd"
   ]
  },
  {
   "cell_type": "code",
   "execution_count": 11,
   "metadata": {
    "colab": {
     "base_uri": "https://localhost:8080/"
    },
    "executionInfo": {
     "elapsed": 5,
     "status": "ok",
     "timestamp": 1703124477644,
     "user": {
      "displayName": "안이",
      "userId": "11737815484813947023"
     },
     "user_tz": -540
    },
    "id": "37Aemf_7YMBu",
    "outputId": "aa732aa4-261b-4298-8edb-1649ba56ec66"
   },
   "outputs": [
    {
     "name": "stdout",
     "output_type": "stream",
     "text": [
      "/content/yolov5\n"
     ]
    }
   ],
   "source": [
    "%cd yolov5"
   ]
  },
  {
   "cell_type": "code",
   "execution_count": 12,
   "metadata": {
    "colab": {
     "base_uri": "https://localhost:8080/",
     "height": 1000
    },
    "executionInfo": {
     "elapsed": 14809,
     "status": "ok",
     "timestamp": 1703124492449,
     "user": {
      "displayName": "안이",
      "userId": "11737815484813947023"
     },
     "user_tz": -540
    },
    "id": "h-JslWWgYNdA",
    "outputId": "7673aac3-10b9-4e75-9544-f40811193279"
   },
   "outputs": [
    {
     "name": "stdout",
     "output_type": "stream",
     "text": [
      "Collecting gitpython>=3.1.30 (from -r requirements.txt (line 5))\n",
      "  Downloading GitPython-3.1.40-py3-none-any.whl (190 kB)\n",
      "\u001b[2K     \u001b[90m━━━━━━━━━━━━━━━━━━━━━━━━━━━━━━━━━━━━━━━━\u001b[0m \u001b[32m190.6/190.6 kB\u001b[0m \u001b[31m4.3 MB/s\u001b[0m eta \u001b[36m0:00:00\u001b[0m\n",
      "\u001b[?25hRequirement already satisfied: matplotlib>=3.3 in /usr/local/lib/python3.10/dist-packages (from -r requirements.txt (line 6)) (3.7.1)\n",
      "Requirement already satisfied: numpy>=1.22.2 in /usr/local/lib/python3.10/dist-packages (from -r requirements.txt (line 7)) (1.23.5)\n",
      "Requirement already satisfied: opencv-python>=4.1.1 in /usr/local/lib/python3.10/dist-packages (from -r requirements.txt (line 8)) (4.8.0.76)\n",
      "Collecting Pillow>=10.0.1 (from -r requirements.txt (line 9))\n",
      "  Downloading Pillow-10.1.0-cp310-cp310-manylinux_2_28_x86_64.whl (3.6 MB)\n",
      "\u001b[2K     \u001b[90m━━━━━━━━━━━━━━━━━━━━━━━━━━━━━━━━━━━━━━━━\u001b[0m \u001b[32m3.6/3.6 MB\u001b[0m \u001b[31m22.5 MB/s\u001b[0m eta \u001b[36m0:00:00\u001b[0m\n",
      "\u001b[?25hRequirement already satisfied: psutil in /usr/local/lib/python3.10/dist-packages (from -r requirements.txt (line 10)) (5.9.5)\n",
      "Requirement already satisfied: PyYAML>=5.3.1 in /usr/local/lib/python3.10/dist-packages (from -r requirements.txt (line 11)) (6.0.1)\n",
      "Requirement already satisfied: requests>=2.23.0 in /usr/local/lib/python3.10/dist-packages (from -r requirements.txt (line 12)) (2.31.0)\n",
      "Requirement already satisfied: scipy>=1.4.1 in /usr/local/lib/python3.10/dist-packages (from -r requirements.txt (line 13)) (1.11.4)\n",
      "Collecting thop>=0.1.1 (from -r requirements.txt (line 14))\n",
      "  Downloading thop-0.1.1.post2209072238-py3-none-any.whl (15 kB)\n",
      "Requirement already satisfied: torch>=1.8.0 in /usr/local/lib/python3.10/dist-packages (from -r requirements.txt (line 15)) (2.1.0+cu121)\n",
      "Requirement already satisfied: torchvision>=0.9.0 in /usr/local/lib/python3.10/dist-packages (from -r requirements.txt (line 16)) (0.16.0+cu121)\n",
      "Requirement already satisfied: tqdm>=4.64.0 in /usr/local/lib/python3.10/dist-packages (from -r requirements.txt (line 17)) (4.66.1)\n",
      "Collecting ultralytics>=8.0.147 (from -r requirements.txt (line 18))\n",
      "  Downloading ultralytics-8.0.228-py3-none-any.whl (661 kB)\n",
      "\u001b[2K     \u001b[90m━━━━━━━━━━━━━━━━━━━━━━━━━━━━━━━━━━━━━━━━\u001b[0m \u001b[32m661.2/661.2 kB\u001b[0m \u001b[31m43.8 MB/s\u001b[0m eta \u001b[36m0:00:00\u001b[0m\n",
      "\u001b[?25hRequirement already satisfied: pandas>=1.1.4 in /usr/local/lib/python3.10/dist-packages (from -r requirements.txt (line 27)) (1.5.3)\n",
      "Requirement already satisfied: seaborn>=0.11.0 in /usr/local/lib/python3.10/dist-packages (from -r requirements.txt (line 28)) (0.12.2)\n",
      "Requirement already satisfied: setuptools>=65.5.1 in /usr/local/lib/python3.10/dist-packages (from -r requirements.txt (line 42)) (67.7.2)\n",
      "Collecting gitdb<5,>=4.0.1 (from gitpython>=3.1.30->-r requirements.txt (line 5))\n",
      "  Downloading gitdb-4.0.11-py3-none-any.whl (62 kB)\n",
      "\u001b[2K     \u001b[90m━━━━━━━━━━━━━━━━━━━━━━━━━━━━━━━━━━━━━━━━\u001b[0m \u001b[32m62.7/62.7 kB\u001b[0m \u001b[31m9.0 MB/s\u001b[0m eta \u001b[36m0:00:00\u001b[0m\n",
      "\u001b[?25hRequirement already satisfied: contourpy>=1.0.1 in /usr/local/lib/python3.10/dist-packages (from matplotlib>=3.3->-r requirements.txt (line 6)) (1.2.0)\n",
      "Requirement already satisfied: cycler>=0.10 in /usr/local/lib/python3.10/dist-packages (from matplotlib>=3.3->-r requirements.txt (line 6)) (0.10.0)\n",
      "Requirement already satisfied: fonttools>=4.22.0 in /usr/local/lib/python3.10/dist-packages (from matplotlib>=3.3->-r requirements.txt (line 6)) (4.46.0)\n",
      "Requirement already satisfied: kiwisolver>=1.0.1 in /usr/local/lib/python3.10/dist-packages (from matplotlib>=3.3->-r requirements.txt (line 6)) (1.4.5)\n",
      "Requirement already satisfied: packaging>=20.0 in /usr/local/lib/python3.10/dist-packages (from matplotlib>=3.3->-r requirements.txt (line 6)) (23.2)\n",
      "Requirement already satisfied: pyparsing>=2.3.1 in /usr/local/lib/python3.10/dist-packages (from matplotlib>=3.3->-r requirements.txt (line 6)) (2.4.7)\n",
      "Requirement already satisfied: python-dateutil>=2.7 in /usr/local/lib/python3.10/dist-packages (from matplotlib>=3.3->-r requirements.txt (line 6)) (2.8.2)\n",
      "Requirement already satisfied: charset-normalizer<4,>=2 in /usr/local/lib/python3.10/dist-packages (from requests>=2.23.0->-r requirements.txt (line 12)) (3.3.2)\n",
      "Requirement already satisfied: idna<4,>=2.5 in /usr/local/lib/python3.10/dist-packages (from requests>=2.23.0->-r requirements.txt (line 12)) (2.10)\n",
      "Requirement already satisfied: urllib3<3,>=1.21.1 in /usr/local/lib/python3.10/dist-packages (from requests>=2.23.0->-r requirements.txt (line 12)) (2.0.7)\n",
      "Requirement already satisfied: certifi>=2017.4.17 in /usr/local/lib/python3.10/dist-packages (from requests>=2.23.0->-r requirements.txt (line 12)) (2023.7.22)\n",
      "Requirement already satisfied: filelock in /usr/local/lib/python3.10/dist-packages (from torch>=1.8.0->-r requirements.txt (line 15)) (3.13.1)\n",
      "Requirement already satisfied: typing-extensions in /usr/local/lib/python3.10/dist-packages (from torch>=1.8.0->-r requirements.txt (line 15)) (4.5.0)\n",
      "Requirement already satisfied: sympy in /usr/local/lib/python3.10/dist-packages (from torch>=1.8.0->-r requirements.txt (line 15)) (1.12)\n",
      "Requirement already satisfied: networkx in /usr/local/lib/python3.10/dist-packages (from torch>=1.8.0->-r requirements.txt (line 15)) (3.2.1)\n",
      "Requirement already satisfied: jinja2 in /usr/local/lib/python3.10/dist-packages (from torch>=1.8.0->-r requirements.txt (line 15)) (3.1.2)\n",
      "Requirement already satisfied: fsspec in /usr/local/lib/python3.10/dist-packages (from torch>=1.8.0->-r requirements.txt (line 15)) (2023.6.0)\n",
      "Requirement already satisfied: triton==2.1.0 in /usr/local/lib/python3.10/dist-packages (from torch>=1.8.0->-r requirements.txt (line 15)) (2.1.0)\n",
      "Requirement already satisfied: py-cpuinfo in /usr/local/lib/python3.10/dist-packages (from ultralytics>=8.0.147->-r requirements.txt (line 18)) (9.0.0)\n",
      "Requirement already satisfied: pytz>=2020.1 in /usr/local/lib/python3.10/dist-packages (from pandas>=1.1.4->-r requirements.txt (line 27)) (2023.3.post1)\n",
      "Requirement already satisfied: six in /usr/local/lib/python3.10/dist-packages (from cycler>=0.10->matplotlib>=3.3->-r requirements.txt (line 6)) (1.16.0)\n",
      "Collecting smmap<6,>=3.0.1 (from gitdb<5,>=4.0.1->gitpython>=3.1.30->-r requirements.txt (line 5))\n",
      "  Downloading smmap-5.0.1-py3-none-any.whl (24 kB)\n",
      "Requirement already satisfied: MarkupSafe>=2.0 in /usr/local/lib/python3.10/dist-packages (from jinja2->torch>=1.8.0->-r requirements.txt (line 15)) (2.1.3)\n",
      "Requirement already satisfied: mpmath>=0.19 in /usr/local/lib/python3.10/dist-packages (from sympy->torch>=1.8.0->-r requirements.txt (line 15)) (1.3.0)\n",
      "Installing collected packages: smmap, Pillow, gitdb, thop, gitpython, ultralytics\n",
      "  Attempting uninstall: Pillow\n",
      "    Found existing installation: Pillow 9.4.0\n",
      "    Uninstalling Pillow-9.4.0:\n",
      "      Successfully uninstalled Pillow-9.4.0\n",
      "\u001b[31mERROR: pip's dependency resolver does not currently take into account all the packages that are installed. This behaviour is the source of the following dependency conflicts.\n",
      "imageio 2.31.6 requires pillow<10.1.0,>=8.3.2, but you have pillow 10.1.0 which is incompatible.\u001b[0m\u001b[31m\n",
      "\u001b[0mSuccessfully installed Pillow-10.1.0 gitdb-4.0.11 gitpython-3.1.40 smmap-5.0.1 thop-0.1.1.post2209072238 ultralytics-8.0.228\n"
     ]
    },
    {
     "data": {
      "application/vnd.colab-display-data+json": {
       "pip_warning": {
        "packages": [
         "PIL"
        ]
       }
      }
     },
     "metadata": {},
     "output_type": "display_data"
    }
   ],
   "source": [
    "!pip install -r requirements.txt"
   ]
  },
  {
   "cell_type": "code",
   "execution_count": 13,
   "metadata": {
    "colab": {
     "base_uri": "https://localhost:8080/"
    },
    "executionInfo": {
     "elapsed": 6477311,
     "status": "ok",
     "timestamp": 1703130969756,
     "user": {
      "displayName": "안이",
      "userId": "11737815484813947023"
     },
     "user_tz": -540
    },
    "id": "mBsF4DHQYO0B",
    "outputId": "516d96fe-511d-4339-edb2-55320bb181db"
   },
   "outputs": [
    {
     "name": "stdout",
     "output_type": "stream",
     "text": [
      "2023-12-21 02:08:23.622228: E external/local_xla/xla/stream_executor/cuda/cuda_dnn.cc:9261] Unable to register cuDNN factory: Attempting to register factory for plugin cuDNN when one has already been registered\n",
      "2023-12-21 02:08:23.622284: E external/local_xla/xla/stream_executor/cuda/cuda_fft.cc:607] Unable to register cuFFT factory: Attempting to register factory for plugin cuFFT when one has already been registered\n",
      "2023-12-21 02:08:23.624167: E external/local_xla/xla/stream_executor/cuda/cuda_blas.cc:1515] Unable to register cuBLAS factory: Attempting to register factory for plugin cuBLAS when one has already been registered\n",
      "\u001b[34m\u001b[1mtrain: \u001b[0mweights=yolov5m.pt, cfg=, data=/content/blind-man-9/data.yaml, hyp=data/hyps/hyp.scratch-low.yaml, epochs=50, batch_size=32, imgsz=416, rect=False, resume=False, nosave=False, noval=False, noautoanchor=False, noplots=False, evolve=None, bucket=, cache=None, image_weights=False, device=, multi_scale=False, single_cls=False, optimizer=SGD, sync_bn=False, workers=8, project=runs/train, name=blind_man, exist_ok=True, quad=False, cos_lr=False, label_smoothing=0.0, patience=100, freeze=[0], save_period=-1, seed=0, local_rank=-1, entity=None, upload_dataset=False, bbox_interval=-1, artifact_alias=latest\n",
      "\u001b[34m\u001b[1mgithub: \u001b[0mup to date with https://github.com/ultralytics/yolov5 ✅\n",
      "YOLOv5 🚀 v7.0-253-g63555c8 Python-3.10.12 torch-2.1.0+cu121 CUDA:0 (Tesla V100-SXM2-16GB, 16151MiB)\n",
      "\n",
      "\u001b[34m\u001b[1mhyperparameters: \u001b[0mlr0=0.01, lrf=0.01, momentum=0.937, weight_decay=0.0005, warmup_epochs=3.0, warmup_momentum=0.8, warmup_bias_lr=0.1, box=0.05, cls=0.5, cls_pw=1.0, obj=1.0, obj_pw=1.0, iou_t=0.2, anchor_t=4.0, fl_gamma=0.0, hsv_h=0.015, hsv_s=0.7, hsv_v=0.4, degrees=0.0, translate=0.1, scale=0.5, shear=0.0, perspective=0.0, flipud=0.0, fliplr=0.5, mosaic=1.0, mixup=0.0, copy_paste=0.0\n",
      "\u001b[34m\u001b[1mComet: \u001b[0mrun 'pip install comet_ml' to automatically track and visualize YOLOv5 🚀 runs in Comet\n",
      "\u001b[34m\u001b[1mTensorBoard: \u001b[0mStart with 'tensorboard --logdir runs/train', view at http://localhost:6006/\n",
      "Downloading https://ultralytics.com/assets/Arial.ttf to /root/.config/Ultralytics/Arial.ttf...\n",
      "100% 755k/755k [00:00<00:00, 26.7MB/s]\n",
      "Downloading https://github.com/ultralytics/yolov5/releases/download/v7.0/yolov5m.pt to yolov5m.pt...\n",
      "100% 40.8M/40.8M [00:00<00:00, 346MB/s]\n",
      "\n",
      "Overriding model.yaml nc=80 with nc=2\n",
      "\n",
      "                 from  n    params  module                                  arguments                     \n",
      "  0                -1  1      5280  models.common.Conv                      [3, 48, 6, 2, 2]              \n",
      "  1                -1  1     41664  models.common.Conv                      [48, 96, 3, 2]                \n",
      "  2                -1  2     65280  models.common.C3                        [96, 96, 2]                   \n",
      "  3                -1  1    166272  models.common.Conv                      [96, 192, 3, 2]               \n",
      "  4                -1  4    444672  models.common.C3                        [192, 192, 4]                 \n",
      "  5                -1  1    664320  models.common.Conv                      [192, 384, 3, 2]              \n",
      "  6                -1  6   2512896  models.common.C3                        [384, 384, 6]                 \n",
      "  7                -1  1   2655744  models.common.Conv                      [384, 768, 3, 2]              \n",
      "  8                -1  2   4134912  models.common.C3                        [768, 768, 2]                 \n",
      "  9                -1  1   1476864  models.common.SPPF                      [768, 768, 5]                 \n",
      " 10                -1  1    295680  models.common.Conv                      [768, 384, 1, 1]              \n",
      " 11                -1  1         0  torch.nn.modules.upsampling.Upsample    [None, 2, 'nearest']          \n",
      " 12           [-1, 6]  1         0  models.common.Concat                    [1]                           \n",
      " 13                -1  2   1182720  models.common.C3                        [768, 384, 2, False]          \n",
      " 14                -1  1     74112  models.common.Conv                      [384, 192, 1, 1]              \n",
      " 15                -1  1         0  torch.nn.modules.upsampling.Upsample    [None, 2, 'nearest']          \n",
      " 16           [-1, 4]  1         0  models.common.Concat                    [1]                           \n",
      " 17                -1  2    296448  models.common.C3                        [384, 192, 2, False]          \n",
      " 18                -1  1    332160  models.common.Conv                      [192, 192, 3, 2]              \n",
      " 19          [-1, 14]  1         0  models.common.Concat                    [1]                           \n",
      " 20                -1  2   1035264  models.common.C3                        [384, 384, 2, False]          \n",
      " 21                -1  1   1327872  models.common.Conv                      [384, 384, 3, 2]              \n",
      " 22          [-1, 10]  1         0  models.common.Concat                    [1]                           \n",
      " 23                -1  2   4134912  models.common.C3                        [768, 768, 2, False]          \n",
      " 24      [17, 20, 23]  1     28287  models.yolo.Detect                      [2, [[10, 13, 16, 30, 33, 23], [30, 61, 62, 45, 59, 119], [116, 90, 156, 198, 373, 326]], [192, 384, 768]]\n",
      "Model summary: 291 layers, 20875359 parameters, 20875359 gradients, 48.2 GFLOPs\n",
      "\n",
      "Transferred 475/481 items from yolov5m.pt\n",
      "\u001b[34m\u001b[1mAMP: \u001b[0mchecks passed ✅\n",
      "\u001b[34m\u001b[1moptimizer:\u001b[0m SGD(lr=0.01) with parameter groups 79 weight(decay=0.0), 82 weight(decay=0.0005), 82 bias\n",
      "\u001b[34m\u001b[1malbumentations: \u001b[0mBlur(p=0.01, blur_limit=(3, 7)), MedianBlur(p=0.01, blur_limit=(3, 7)), ToGray(p=0.01), CLAHE(p=0.01, clip_limit=(1, 4.0), tile_grid_size=(8, 8))\n",
      "\u001b[34m\u001b[1mtrain: \u001b[0mScanning /content/blind-man-9/train... 3443 images, 1 backgrounds, 0 corrupt: 100% 3443/3443 [00:03<00:00, 995.77it/s] \n",
      "\u001b[34m\u001b[1mtrain: \u001b[0mNew cache created: /content/blind-man-9/train.cache\n",
      "\u001b[34m\u001b[1mval: \u001b[0mScanning /content/blind-man-9/validation... 944 images, 0 backgrounds, 0 corrupt: 100% 944/944 [00:02<00:00, 428.97it/s]\n",
      "\u001b[34m\u001b[1mval: \u001b[0mNew cache created: /content/blind-man-9/validation.cache\n",
      "\n",
      "\u001b[34m\u001b[1mAutoAnchor: \u001b[0m4.85 anchors/target, 0.998 Best Possible Recall (BPR). Current anchors are a good fit to dataset ✅\n",
      "Plotting labels to runs/train/blind_man/labels.jpg... \n",
      "Image sizes 416 train, 416 val\n",
      "Using 2 dataloader workers\n",
      "Logging results to \u001b[1mruns/train/blind_man\u001b[0m\n",
      "Starting training for 50 epochs...\n",
      "\n",
      "      Epoch    GPU_mem   box_loss   obj_loss   cls_loss  Instances       Size\n",
      "       0/49      5.43G    0.08091    0.01707    0.01091         29        416: 100% 108/108 [01:56<00:00,  1.08s/it]\n",
      "                 Class     Images  Instances          P          R      mAP50   mAP50-95: 100% 15/15 [00:22<00:00,  1.47s/it]\n",
      "                   all        944        981      0.333      0.859      0.578      0.198\n",
      "\n",
      "      Epoch    GPU_mem   box_loss   obj_loss   cls_loss  Instances       Size\n",
      "       1/49      6.36G    0.05597    0.01363   0.002694         28        416: 100% 108/108 [01:51<00:00,  1.03s/it]\n",
      "                 Class     Images  Instances          P          R      mAP50   mAP50-95: 100% 15/15 [00:17<00:00,  1.18s/it]\n",
      "                   all        944        981       0.67      0.761      0.731      0.307\n",
      "\n",
      "      Epoch    GPU_mem   box_loss   obj_loss   cls_loss  Instances       Size\n",
      "       2/49      6.36G    0.05013    0.01127   0.002326         29        416: 100% 108/108 [01:50<00:00,  1.02s/it]\n",
      "                 Class     Images  Instances          P          R      mAP50   mAP50-95: 100% 15/15 [00:17<00:00,  1.19s/it]\n",
      "                   all        944        981      0.671       0.77      0.788      0.355\n",
      "\n",
      "      Epoch    GPU_mem   box_loss   obj_loss   cls_loss  Instances       Size\n",
      "       3/49      6.36G    0.04464    0.01021   0.001747         29        416: 100% 108/108 [01:46<00:00,  1.01it/s]\n",
      "                 Class     Images  Instances          P          R      mAP50   mAP50-95: 100% 15/15 [00:17<00:00,  1.17s/it]\n",
      "                   all        944        981      0.808      0.834      0.825      0.381\n",
      "\n",
      "      Epoch    GPU_mem   box_loss   obj_loss   cls_loss  Instances       Size\n",
      "       4/49      6.36G    0.04135   0.009751   0.001367         25        416: 100% 108/108 [01:51<00:00,  1.03s/it]\n",
      "                 Class     Images  Instances          P          R      mAP50   mAP50-95: 100% 15/15 [00:17<00:00,  1.17s/it]\n",
      "                   all        944        981      0.756      0.802      0.763      0.371\n",
      "\n",
      "      Epoch    GPU_mem   box_loss   obj_loss   cls_loss  Instances       Size\n",
      "       5/49      6.36G    0.03921   0.009559   0.001401         40        416: 100% 108/108 [01:47<00:00,  1.01it/s]\n",
      "                 Class     Images  Instances          P          R      mAP50   mAP50-95: 100% 15/15 [00:17<00:00,  1.19s/it]\n",
      "                   all        944        981      0.788       0.79       0.78      0.403\n",
      "\n",
      "      Epoch    GPU_mem   box_loss   obj_loss   cls_loss  Instances       Size\n",
      "       6/49      6.36G    0.03741   0.009349    0.00117         29        416: 100% 108/108 [01:45<00:00,  1.02it/s]\n",
      "                 Class     Images  Instances          P          R      mAP50   mAP50-95: 100% 15/15 [00:17<00:00,  1.17s/it]\n",
      "                   all        944        981      0.781      0.756      0.835      0.398\n",
      "\n",
      "      Epoch    GPU_mem   box_loss   obj_loss   cls_loss  Instances       Size\n",
      "       7/49      6.36G    0.03594   0.009382   0.001139         36        416: 100% 108/108 [01:53<00:00,  1.05s/it]\n",
      "                 Class     Images  Instances          P          R      mAP50   mAP50-95: 100% 15/15 [00:17<00:00,  1.19s/it]\n",
      "                   all        944        981      0.834      0.867      0.838      0.434\n",
      "\n",
      "      Epoch    GPU_mem   box_loss   obj_loss   cls_loss  Instances       Size\n",
      "       8/49      6.36G    0.03445   0.008998    0.00102         33        416: 100% 108/108 [01:46<00:00,  1.01it/s]\n",
      "                 Class     Images  Instances          P          R      mAP50   mAP50-95: 100% 15/15 [00:18<00:00,  1.27s/it]\n",
      "                   all        944        981      0.836      0.888       0.85      0.452\n",
      "\n",
      "      Epoch    GPU_mem   box_loss   obj_loss   cls_loss  Instances       Size\n",
      "       9/49      6.36G    0.03293   0.008747  0.0009029         31        416: 100% 108/108 [01:47<00:00,  1.01it/s]\n",
      "                 Class     Images  Instances          P          R      mAP50   mAP50-95: 100% 15/15 [00:17<00:00,  1.19s/it]\n",
      "                   all        944        981      0.888      0.882      0.881      0.494\n",
      "\n",
      "      Epoch    GPU_mem   box_loss   obj_loss   cls_loss  Instances       Size\n",
      "      10/49      6.36G    0.03235   0.008584  0.0007297         32        416: 100% 108/108 [01:51<00:00,  1.03s/it]\n",
      "                 Class     Images  Instances          P          R      mAP50   mAP50-95: 100% 15/15 [00:18<00:00,  1.22s/it]\n",
      "                   all        944        981      0.868      0.915      0.903      0.504\n",
      "\n",
      "      Epoch    GPU_mem   box_loss   obj_loss   cls_loss  Instances       Size\n",
      "      11/49      6.36G    0.03104   0.008346  0.0007677         26        416: 100% 108/108 [01:47<00:00,  1.01it/s]\n",
      "                 Class     Images  Instances          P          R      mAP50   mAP50-95: 100% 15/15 [00:18<00:00,  1.27s/it]\n",
      "                   all        944        981      0.867      0.854      0.885        0.5\n",
      "\n",
      "      Epoch    GPU_mem   box_loss   obj_loss   cls_loss  Instances       Size\n",
      "      12/49      6.36G    0.03031   0.008256   0.000696         41        416: 100% 108/108 [01:46<00:00,  1.01it/s]\n",
      "                 Class     Images  Instances          P          R      mAP50   mAP50-95: 100% 15/15 [00:18<00:00,  1.21s/it]\n",
      "                   all        944        981      0.917      0.914      0.923       0.51\n",
      "\n",
      "      Epoch    GPU_mem   box_loss   obj_loss   cls_loss  Instances       Size\n",
      "      13/49      6.36G    0.02999   0.008246  0.0006559         34        416: 100% 108/108 [01:50<00:00,  1.02s/it]\n",
      "                 Class     Images  Instances          P          R      mAP50   mAP50-95: 100% 15/15 [00:17<00:00,  1.18s/it]\n",
      "                   all        944        981      0.862      0.894      0.881      0.511\n",
      "\n",
      "      Epoch    GPU_mem   box_loss   obj_loss   cls_loss  Instances       Size\n",
      "      14/49      6.36G    0.02978   0.008161  0.0006074         39        416: 100% 108/108 [01:44<00:00,  1.03it/s]\n",
      "                 Class     Images  Instances          P          R      mAP50   mAP50-95: 100% 15/15 [00:17<00:00,  1.19s/it]\n",
      "                   all        944        981      0.886      0.907      0.927      0.541\n",
      "\n",
      "      Epoch    GPU_mem   box_loss   obj_loss   cls_loss  Instances       Size\n",
      "      15/49      6.36G    0.02912     0.0079  0.0006757         37        416: 100% 108/108 [01:45<00:00,  1.03it/s]\n",
      "                 Class     Images  Instances          P          R      mAP50   mAP50-95: 100% 15/15 [00:18<00:00,  1.21s/it]\n",
      "                   all        944        981      0.896      0.854      0.931      0.564\n",
      "\n",
      "      Epoch    GPU_mem   box_loss   obj_loss   cls_loss  Instances       Size\n",
      "      16/49      6.36G    0.02839   0.007868  0.0005019         39        416: 100% 108/108 [01:49<00:00,  1.02s/it]\n",
      "                 Class     Images  Instances          P          R      mAP50   mAP50-95: 100% 15/15 [00:17<00:00,  1.18s/it]\n",
      "                   all        944        981      0.891      0.935      0.939      0.565\n",
      "\n",
      "      Epoch    GPU_mem   box_loss   obj_loss   cls_loss  Instances       Size\n",
      "      17/49      6.36G    0.02783   0.007718  0.0005374         34        416: 100% 108/108 [01:44<00:00,  1.04it/s]\n",
      "                 Class     Images  Instances          P          R      mAP50   mAP50-95: 100% 15/15 [00:17<00:00,  1.17s/it]\n",
      "                   all        944        981       0.86      0.888      0.905      0.547\n",
      "\n",
      "      Epoch    GPU_mem   box_loss   obj_loss   cls_loss  Instances       Size\n",
      "      18/49      6.36G    0.02712    0.00783  0.0005665         37        416: 100% 108/108 [01:43<00:00,  1.05it/s]\n",
      "                 Class     Images  Instances          P          R      mAP50   mAP50-95: 100% 15/15 [00:19<00:00,  1.30s/it]\n",
      "                   all        944        981       0.89       0.91      0.928      0.566\n",
      "\n",
      "      Epoch    GPU_mem   box_loss   obj_loss   cls_loss  Instances       Size\n",
      "      19/49      6.36G    0.02687   0.007593   0.000408         37        416: 100% 108/108 [01:45<00:00,  1.02it/s]\n",
      "                 Class     Images  Instances          P          R      mAP50   mAP50-95: 100% 15/15 [00:17<00:00,  1.14s/it]\n",
      "                   all        944        981      0.905      0.932      0.934      0.566\n",
      "\n",
      "      Epoch    GPU_mem   box_loss   obj_loss   cls_loss  Instances       Size\n",
      "      20/49      6.36G    0.02666   0.007431  0.0004867         46        416: 100% 108/108 [01:43<00:00,  1.04it/s]\n",
      "                 Class     Images  Instances          P          R      mAP50   mAP50-95: 100% 15/15 [00:18<00:00,  1.22s/it]\n",
      "                   all        944        981      0.916      0.939       0.94      0.573\n",
      "\n",
      "      Epoch    GPU_mem   box_loss   obj_loss   cls_loss  Instances       Size\n",
      "      21/49      6.36G    0.02664   0.007378  0.0004571         41        416: 100% 108/108 [01:43<00:00,  1.04it/s]\n",
      "                 Class     Images  Instances          P          R      mAP50   mAP50-95: 100% 15/15 [00:18<00:00,  1.21s/it]\n",
      "                   all        944        981       0.93       0.93      0.931      0.578\n",
      "\n",
      "      Epoch    GPU_mem   box_loss   obj_loss   cls_loss  Instances       Size\n",
      "      22/49      6.36G    0.02608   0.007353  0.0003335         37        416: 100% 108/108 [01:48<00:00,  1.01s/it]\n",
      "                 Class     Images  Instances          P          R      mAP50   mAP50-95: 100% 15/15 [00:17<00:00,  1.17s/it]\n",
      "                   all        944        981      0.936       0.94      0.951      0.576\n",
      "\n",
      "      Epoch    GPU_mem   box_loss   obj_loss   cls_loss  Instances       Size\n",
      "      23/49      6.36G    0.02551    0.00725  0.0004308         40        416: 100% 108/108 [01:45<00:00,  1.03it/s]\n",
      "                 Class     Images  Instances          P          R      mAP50   mAP50-95: 100% 15/15 [00:17<00:00,  1.19s/it]\n",
      "                   all        944        981      0.928      0.929      0.943      0.576\n",
      "\n",
      "      Epoch    GPU_mem   box_loss   obj_loss   cls_loss  Instances       Size\n",
      "      24/49      6.36G    0.02517   0.007235  0.0003863         33        416: 100% 108/108 [01:45<00:00,  1.03it/s]\n",
      "                 Class     Images  Instances          P          R      mAP50   mAP50-95: 100% 15/15 [00:18<00:00,  1.22s/it]\n",
      "                   all        944        981      0.901      0.929      0.933      0.587\n",
      "\n",
      "      Epoch    GPU_mem   box_loss   obj_loss   cls_loss  Instances       Size\n",
      "      25/49      6.36G    0.02524     0.0071   0.000417         41        416: 100% 108/108 [01:45<00:00,  1.03it/s]\n",
      "                 Class     Images  Instances          P          R      mAP50   mAP50-95: 100% 15/15 [00:17<00:00,  1.17s/it]\n",
      "                   all        944        981      0.923      0.939       0.94      0.587\n",
      "\n",
      "      Epoch    GPU_mem   box_loss   obj_loss   cls_loss  Instances       Size\n",
      "      26/49      6.36G    0.02429   0.006935   0.000274         37        416: 100% 108/108 [01:46<00:00,  1.02it/s]\n",
      "                 Class     Images  Instances          P          R      mAP50   mAP50-95: 100% 15/15 [00:16<00:00,  1.12s/it]\n",
      "                   all        944        981       0.96      0.915      0.933      0.589\n",
      "\n",
      "      Epoch    GPU_mem   box_loss   obj_loss   cls_loss  Instances       Size\n",
      "      27/49      6.36G    0.02467   0.007064  0.0003029         34        416: 100% 108/108 [01:44<00:00,  1.04it/s]\n",
      "                 Class     Images  Instances          P          R      mAP50   mAP50-95: 100% 15/15 [00:17<00:00,  1.16s/it]\n",
      "                   all        944        981      0.933      0.919      0.934      0.577\n",
      "\n",
      "      Epoch    GPU_mem   box_loss   obj_loss   cls_loss  Instances       Size\n",
      "      28/49      6.36G    0.02415    0.00696  0.0003217         31        416: 100% 108/108 [01:45<00:00,  1.03it/s]\n",
      "                 Class     Images  Instances          P          R      mAP50   mAP50-95: 100% 15/15 [00:19<00:00,  1.27s/it]\n",
      "                   all        944        981       0.94      0.896      0.938      0.559\n",
      "\n",
      "      Epoch    GPU_mem   box_loss   obj_loss   cls_loss  Instances       Size\n",
      "      29/49      6.36G    0.02389   0.006912  0.0003611         32        416: 100% 108/108 [01:48<00:00,  1.01s/it]\n",
      "                 Class     Images  Instances          P          R      mAP50   mAP50-95: 100% 15/15 [00:17<00:00,  1.19s/it]\n",
      "                   all        944        981      0.966      0.908      0.954      0.585\n",
      "\n",
      "      Epoch    GPU_mem   box_loss   obj_loss   cls_loss  Instances       Size\n",
      "      30/49      6.36G    0.02353   0.006884  0.0002511         39        416: 100% 108/108 [01:45<00:00,  1.03it/s]\n",
      "                 Class     Images  Instances          P          R      mAP50   mAP50-95: 100% 15/15 [00:17<00:00,  1.15s/it]\n",
      "                   all        944        981      0.959      0.921      0.951      0.602\n",
      "\n",
      "      Epoch    GPU_mem   box_loss   obj_loss   cls_loss  Instances       Size\n",
      "      31/49      6.36G    0.02297   0.006738  0.0002456         37        416: 100% 108/108 [01:45<00:00,  1.02it/s]\n",
      "                 Class     Images  Instances          P          R      mAP50   mAP50-95: 100% 15/15 [00:18<00:00,  1.21s/it]\n",
      "                   all        944        981      0.949      0.933      0.953      0.589\n",
      "\n",
      "      Epoch    GPU_mem   box_loss   obj_loss   cls_loss  Instances       Size\n",
      "      32/49      6.36G    0.02254   0.006743  0.0002806         34        416: 100% 108/108 [01:48<00:00,  1.01s/it]\n",
      "                 Class     Images  Instances          P          R      mAP50   mAP50-95: 100% 15/15 [00:17<00:00,  1.16s/it]\n",
      "                   all        944        981       0.96      0.939      0.954        0.6\n",
      "\n",
      "      Epoch    GPU_mem   box_loss   obj_loss   cls_loss  Instances       Size\n",
      "      33/49      6.36G    0.02257   0.006734  0.0002712         37        416: 100% 108/108 [01:44<00:00,  1.03it/s]\n",
      "                 Class     Images  Instances          P          R      mAP50   mAP50-95: 100% 15/15 [00:19<00:00,  1.28s/it]\n",
      "                   all        944        981      0.966       0.92      0.954      0.606\n",
      "\n",
      "      Epoch    GPU_mem   box_loss   obj_loss   cls_loss  Instances       Size\n",
      "      34/49      6.36G    0.02261   0.006641  0.0002141         38        416: 100% 108/108 [01:44<00:00,  1.03it/s]\n",
      "                 Class     Images  Instances          P          R      mAP50   mAP50-95: 100% 15/15 [00:17<00:00,  1.16s/it]\n",
      "                   all        944        981      0.928       0.93      0.944      0.616\n",
      "\n",
      "      Epoch    GPU_mem   box_loss   obj_loss   cls_loss  Instances       Size\n",
      "      35/49      6.36G    0.02203   0.006422  0.0001922         37        416: 100% 108/108 [01:44<00:00,  1.04it/s]\n",
      "                 Class     Images  Instances          P          R      mAP50   mAP50-95: 100% 15/15 [00:20<00:00,  1.36s/it]\n",
      "                   all        944        981      0.956      0.922      0.939      0.602\n",
      "\n",
      "      Epoch    GPU_mem   box_loss   obj_loss   cls_loss  Instances       Size\n",
      "      36/49      6.36G    0.02191   0.006482  0.0001818         32        416: 100% 108/108 [01:44<00:00,  1.03it/s]\n",
      "                 Class     Images  Instances          P          R      mAP50   mAP50-95: 100% 15/15 [00:18<00:00,  1.26s/it]\n",
      "                   all        944        981      0.953      0.916      0.941      0.609\n",
      "\n",
      "      Epoch    GPU_mem   box_loss   obj_loss   cls_loss  Instances       Size\n",
      "      37/49      6.36G    0.02151   0.006277  0.0001959         23        416: 100% 108/108 [01:45<00:00,  1.02it/s]\n",
      "                 Class     Images  Instances          P          R      mAP50   mAP50-95: 100% 15/15 [00:17<00:00,  1.18s/it]\n",
      "                   all        944        981      0.977       0.92      0.948      0.616\n",
      "\n",
      "      Epoch    GPU_mem   box_loss   obj_loss   cls_loss  Instances       Size\n",
      "      38/49      6.36G    0.02133   0.006451  0.0002281         39        416: 100% 108/108 [01:43<00:00,  1.04it/s]\n",
      "                 Class     Images  Instances          P          R      mAP50   mAP50-95: 100% 15/15 [00:18<00:00,  1.20s/it]\n",
      "                   all        944        981      0.983       0.92      0.958      0.624\n",
      "\n",
      "      Epoch    GPU_mem   box_loss   obj_loss   cls_loss  Instances       Size\n",
      "      39/49      6.36G    0.02074   0.006217  0.0001702         36        416: 100% 108/108 [01:47<00:00,  1.01it/s]\n",
      "                 Class     Images  Instances          P          R      mAP50   mAP50-95: 100% 15/15 [00:16<00:00,  1.13s/it]\n",
      "                   all        944        981       0.94      0.927      0.954      0.597\n",
      "\n",
      "      Epoch    GPU_mem   box_loss   obj_loss   cls_loss  Instances       Size\n",
      "      40/49      6.36G    0.02081   0.006198  0.0001501         33        416: 100% 108/108 [01:42<00:00,  1.05it/s]\n",
      "                 Class     Images  Instances          P          R      mAP50   mAP50-95: 100% 15/15 [00:16<00:00,  1.13s/it]\n",
      "                   all        944        981      0.943      0.947       0.96      0.618\n",
      "\n",
      "      Epoch    GPU_mem   box_loss   obj_loss   cls_loss  Instances       Size\n",
      "      41/49      6.36G    0.02032   0.006079  0.0001621         37        416: 100% 108/108 [01:42<00:00,  1.05it/s]\n",
      "                 Class     Images  Instances          P          R      mAP50   mAP50-95: 100% 15/15 [00:17<00:00,  1.14s/it]\n",
      "                   all        944        981      0.976      0.944      0.964      0.618\n",
      "\n",
      "      Epoch    GPU_mem   box_loss   obj_loss   cls_loss  Instances       Size\n",
      "      42/49      6.36G    0.02067    0.00635   0.000129         39        416: 100% 108/108 [01:48<00:00,  1.00s/it]\n",
      "                 Class     Images  Instances          P          R      mAP50   mAP50-95: 100% 15/15 [00:17<00:00,  1.15s/it]\n",
      "                   all        944        981      0.979      0.949      0.953      0.622\n",
      "\n",
      "      Epoch    GPU_mem   box_loss   obj_loss   cls_loss  Instances       Size\n",
      "      43/49      6.36G    0.01991   0.006151  0.0001418         42        416: 100% 108/108 [01:42<00:00,  1.06it/s]\n",
      "                 Class     Images  Instances          P          R      mAP50   mAP50-95: 100% 15/15 [00:17<00:00,  1.18s/it]\n",
      "                   all        944        981      0.978       0.94      0.962      0.636\n",
      "\n",
      "      Epoch    GPU_mem   box_loss   obj_loss   cls_loss  Instances       Size\n",
      "      44/49      6.36G    0.01938   0.005935  0.0001868         31        416: 100% 108/108 [01:42<00:00,  1.05it/s]\n",
      "                 Class     Images  Instances          P          R      mAP50   mAP50-95: 100% 15/15 [00:17<00:00,  1.15s/it]\n",
      "                   all        944        981      0.992      0.891      0.956      0.627\n",
      "\n",
      "      Epoch    GPU_mem   box_loss   obj_loss   cls_loss  Instances       Size\n",
      "      45/49      6.36G    0.01974   0.005901  0.0001578         32        416: 100% 108/108 [01:49<00:00,  1.01s/it]\n",
      "                 Class     Images  Instances          P          R      mAP50   mAP50-95: 100% 15/15 [00:19<00:00,  1.32s/it]\n",
      "                   all        944        981       0.99      0.889      0.957      0.623\n",
      "\n",
      "      Epoch    GPU_mem   box_loss   obj_loss   cls_loss  Instances       Size\n",
      "      46/49      6.36G    0.01964   0.005788  0.0001325         35        416: 100% 108/108 [01:54<00:00,  1.06s/it]\n",
      "                 Class     Images  Instances          P          R      mAP50   mAP50-95: 100% 15/15 [00:18<00:00,  1.22s/it]\n",
      "                   all        944        981       0.96       0.91      0.954       0.62\n",
      "\n",
      "      Epoch    GPU_mem   box_loss   obj_loss   cls_loss  Instances       Size\n",
      "      47/49      6.36G    0.01898   0.005838  0.0001449         39        416: 100% 108/108 [01:46<00:00,  1.01it/s]\n",
      "                 Class     Images  Instances          P          R      mAP50   mAP50-95: 100% 15/15 [00:17<00:00,  1.16s/it]\n",
      "                   all        944        981      0.969      0.941      0.953      0.629\n",
      "\n",
      "      Epoch    GPU_mem   box_loss   obj_loss   cls_loss  Instances       Size\n",
      "      48/49      6.36G    0.01905   0.005936  0.0001359         36        416: 100% 108/108 [01:46<00:00,  1.01it/s]\n",
      "                 Class     Images  Instances          P          R      mAP50   mAP50-95: 100% 15/15 [00:17<00:00,  1.17s/it]\n",
      "                   all        944        981      0.961      0.941      0.958      0.625\n",
      "\n",
      "      Epoch    GPU_mem   box_loss   obj_loss   cls_loss  Instances       Size\n",
      "      49/49      6.36G    0.01883   0.005796  0.0001177         38        416: 100% 108/108 [01:49<00:00,  1.01s/it]\n",
      "                 Class     Images  Instances          P          R      mAP50   mAP50-95: 100% 15/15 [00:17<00:00,  1.19s/it]\n",
      "                   all        944        981       0.96      0.903      0.952      0.623\n",
      "\n",
      "50 epochs completed in 1.780 hours.\n",
      "Optimizer stripped from runs/train/blind_man/weights/last.pt, 42.1MB\n",
      "Optimizer stripped from runs/train/blind_man/weights/best.pt, 42.1MB\n",
      "\n",
      "Validating runs/train/blind_man/weights/best.pt...\n",
      "Fusing layers... \n",
      "Model summary: 212 layers, 20856975 parameters, 0 gradients, 47.9 GFLOPs\n",
      "                 Class     Images  Instances          P          R      mAP50   mAP50-95: 100% 15/15 [00:18<00:00,  1.21s/it]\n",
      "                   all        944        981      0.978       0.94      0.962      0.636\n",
      "             guide dog        944         50      0.978      0.894      0.932      0.537\n",
      "             whiteCane        944        931      0.979      0.986      0.992      0.734\n",
      "Results saved to \u001b[1mruns/train/blind_man\u001b[0m\n"
     ]
    }
   ],
   "source": [
    "!python train.py --img 416 --batch 32  --epochs 50 --data /content/blind-man-9/data.yaml --weights yolov5m.pt --name blind_man --exist-ok"
   ]
  },
  {
   "cell_type": "code",
   "execution_count": 13,
   "metadata": {
    "executionInfo": {
     "elapsed": 5,
     "status": "ok",
     "timestamp": 1703121540001,
     "user": {
      "displayName": "안이",
      "userId": "11737815484813947023"
     },
     "user_tz": -540
    },
    "id": "H5IznJpUdMMi"
   },
   "outputs": [],
   "source": []
  },
  {
   "cell_type": "code",
   "execution_count": 14,
   "metadata": {
    "executionInfo": {
     "elapsed": 5,
     "status": "ok",
     "timestamp": 1703130969756,
     "user": {
      "displayName": "안이",
      "userId": "11737815484813947023"
     },
     "user_tz": -540
    },
    "id": "9Ohi3p2UYZdY"
   },
   "outputs": [],
   "source": [
    "TEST_VIDEO_PATH = \"/content/drive/MyDrive/blind_man/blind_vid1.mp4\"\n",
    "TEST_VIDEO_PATH2 = \"/content/drive/MyDrive/blind_man/blind_vid2.mp4\""
   ]
  },
  {
   "cell_type": "code",
   "execution_count": 14,
   "metadata": {
    "executionInfo": {
     "elapsed": 4,
     "status": "ok",
     "timestamp": 1703130969756,
     "user": {
      "displayName": "안이",
      "userId": "11737815484813947023"
     },
     "user_tz": -540
    },
    "id": "vTDm2psP4KgM"
   },
   "outputs": [],
   "source": []
  },
  {
   "cell_type": "code",
   "execution_count": 15,
   "metadata": {
    "colab": {
     "base_uri": "https://localhost:8080/"
    },
    "executionInfo": {
     "elapsed": 20771,
     "status": "ok",
     "timestamp": 1703130990523,
     "user": {
      "displayName": "안이",
      "userId": "11737815484813947023"
     },
     "user_tz": -540
    },
    "id": "vPtMhrOcbnsd",
    "outputId": "cc38e743-258a-4500-bb39-9443a37cb925"
   },
   "outputs": [
    {
     "name": "stdout",
     "output_type": "stream",
     "text": [
      "\u001b[34m\u001b[1mdetect: \u001b[0mweights=['/content/yolov5/runs/train/blind_man/weights/best.pt'], source=/content/drive/MyDrive/blind_man/blind_vid1.mp4, data=data/coco128.yaml, imgsz=[416, 416], conf_thres=0.5, iou_thres=0.45, max_det=1000, device=, view_img=False, save_txt=False, save_csv=False, save_conf=False, save_crop=False, nosave=False, classes=None, agnostic_nms=False, augment=False, visualize=False, update=False, project=/content/, name=result_image, exist_ok=True, line_thickness=5, hide_labels=False, hide_conf=False, half=False, dnn=False, vid_stride=1\n",
      "YOLOv5 🚀 v7.0-253-g63555c8 Python-3.10.12 torch-2.1.0+cu121 CUDA:0 (Tesla V100-SXM2-16GB, 16151MiB)\n",
      "\n",
      "Fusing layers... \n",
      "Model summary: 212 layers, 20856975 parameters, 0 gradients, 47.9 GFLOPs\n",
      "video 1/1 (1/230) /content/drive/MyDrive/blind_man/blind_vid1.mp4: 256x416 (no detections), 97.4ms\n",
      "video 1/1 (2/230) /content/drive/MyDrive/blind_man/blind_vid1.mp4: 256x416 (no detections), 8.0ms\n",
      "video 1/1 (3/230) /content/drive/MyDrive/blind_man/blind_vid1.mp4: 256x416 (no detections), 7.9ms\n",
      "video 1/1 (4/230) /content/drive/MyDrive/blind_man/blind_vid1.mp4: 256x416 (no detections), 10.4ms\n",
      "video 1/1 (5/230) /content/drive/MyDrive/blind_man/blind_vid1.mp4: 256x416 (no detections), 8.8ms\n",
      "video 1/1 (6/230) /content/drive/MyDrive/blind_man/blind_vid1.mp4: 256x416 (no detections), 8.9ms\n",
      "WARNING ⚠️ NMS time limit 0.550s exceeded\n",
      "video 1/1 (7/230) /content/drive/MyDrive/blind_man/blind_vid1.mp4: 256x416 1 whiteCane, 8.8ms\n",
      "video 1/1 (8/230) /content/drive/MyDrive/blind_man/blind_vid1.mp4: 256x416 (no detections), 8.2ms\n",
      "video 1/1 (9/230) /content/drive/MyDrive/blind_man/blind_vid1.mp4: 256x416 (no detections), 7.7ms\n",
      "video 1/1 (10/230) /content/drive/MyDrive/blind_man/blind_vid1.mp4: 256x416 1 whiteCane, 7.8ms\n",
      "video 1/1 (11/230) /content/drive/MyDrive/blind_man/blind_vid1.mp4: 256x416 1 whiteCane, 9.8ms\n",
      "video 1/1 (12/230) /content/drive/MyDrive/blind_man/blind_vid1.mp4: 256x416 (no detections), 9.0ms\n",
      "video 1/1 (13/230) /content/drive/MyDrive/blind_man/blind_vid1.mp4: 256x416 (no detections), 12.7ms\n",
      "video 1/1 (14/230) /content/drive/MyDrive/blind_man/blind_vid1.mp4: 256x416 (no detections), 8.3ms\n",
      "video 1/1 (15/230) /content/drive/MyDrive/blind_man/blind_vid1.mp4: 256x416 (no detections), 8.4ms\n",
      "video 1/1 (16/230) /content/drive/MyDrive/blind_man/blind_vid1.mp4: 256x416 (no detections), 8.5ms\n",
      "video 1/1 (17/230) /content/drive/MyDrive/blind_man/blind_vid1.mp4: 256x416 (no detections), 8.4ms\n",
      "video 1/1 (18/230) /content/drive/MyDrive/blind_man/blind_vid1.mp4: 256x416 1 whiteCane, 8.6ms\n",
      "video 1/1 (19/230) /content/drive/MyDrive/blind_man/blind_vid1.mp4: 256x416 (no detections), 8.9ms\n",
      "video 1/1 (20/230) /content/drive/MyDrive/blind_man/blind_vid1.mp4: 256x416 1 whiteCane, 9.6ms\n",
      "video 1/1 (21/230) /content/drive/MyDrive/blind_man/blind_vid1.mp4: 256x416 1 whiteCane, 8.7ms\n",
      "video 1/1 (22/230) /content/drive/MyDrive/blind_man/blind_vid1.mp4: 256x416 1 whiteCane, 9.8ms\n",
      "video 1/1 (23/230) /content/drive/MyDrive/blind_man/blind_vid1.mp4: 256x416 (no detections), 8.4ms\n",
      "video 1/1 (24/230) /content/drive/MyDrive/blind_man/blind_vid1.mp4: 256x416 (no detections), 8.5ms\n",
      "video 1/1 (25/230) /content/drive/MyDrive/blind_man/blind_vid1.mp4: 256x416 1 whiteCane, 9.4ms\n",
      "video 1/1 (26/230) /content/drive/MyDrive/blind_man/blind_vid1.mp4: 256x416 (no detections), 12.2ms\n",
      "video 1/1 (27/230) /content/drive/MyDrive/blind_man/blind_vid1.mp4: 256x416 1 whiteCane, 9.5ms\n",
      "video 1/1 (28/230) /content/drive/MyDrive/blind_man/blind_vid1.mp4: 256x416 1 whiteCane, 8.9ms\n",
      "video 1/1 (29/230) /content/drive/MyDrive/blind_man/blind_vid1.mp4: 256x416 (no detections), 9.4ms\n",
      "video 1/1 (30/230) /content/drive/MyDrive/blind_man/blind_vid1.mp4: 256x416 (no detections), 8.3ms\n",
      "video 1/1 (31/230) /content/drive/MyDrive/blind_man/blind_vid1.mp4: 256x416 (no detections), 8.8ms\n",
      "video 1/1 (32/230) /content/drive/MyDrive/blind_man/blind_vid1.mp4: 256x416 (no detections), 9.9ms\n",
      "video 1/1 (33/230) /content/drive/MyDrive/blind_man/blind_vid1.mp4: 256x416 (no detections), 9.0ms\n",
      "video 1/1 (34/230) /content/drive/MyDrive/blind_man/blind_vid1.mp4: 256x416 (no detections), 10.5ms\n",
      "video 1/1 (35/230) /content/drive/MyDrive/blind_man/blind_vid1.mp4: 256x416 (no detections), 9.3ms\n",
      "video 1/1 (36/230) /content/drive/MyDrive/blind_man/blind_vid1.mp4: 256x416 1 whiteCane, 8.6ms\n",
      "video 1/1 (37/230) /content/drive/MyDrive/blind_man/blind_vid1.mp4: 256x416 (no detections), 8.8ms\n",
      "video 1/1 (38/230) /content/drive/MyDrive/blind_man/blind_vid1.mp4: 256x416 (no detections), 8.3ms\n",
      "video 1/1 (39/230) /content/drive/MyDrive/blind_man/blind_vid1.mp4: 256x416 1 whiteCane, 7.9ms\n",
      "video 1/1 (40/230) /content/drive/MyDrive/blind_man/blind_vid1.mp4: 256x416 1 whiteCane, 8.6ms\n",
      "video 1/1 (41/230) /content/drive/MyDrive/blind_man/blind_vid1.mp4: 256x416 1 whiteCane, 14.6ms\n",
      "video 1/1 (42/230) /content/drive/MyDrive/blind_man/blind_vid1.mp4: 256x416 1 whiteCane, 8.6ms\n",
      "video 1/1 (43/230) /content/drive/MyDrive/blind_man/blind_vid1.mp4: 256x416 1 whiteCane, 8.3ms\n",
      "video 1/1 (44/230) /content/drive/MyDrive/blind_man/blind_vid1.mp4: 256x416 1 whiteCane, 13.7ms\n",
      "video 1/1 (45/230) /content/drive/MyDrive/blind_man/blind_vid1.mp4: 256x416 1 whiteCane, 13.5ms\n",
      "video 1/1 (46/230) /content/drive/MyDrive/blind_man/blind_vid1.mp4: 256x416 1 whiteCane, 15.1ms\n",
      "video 1/1 (47/230) /content/drive/MyDrive/blind_man/blind_vid1.mp4: 256x416 (no detections), 13.8ms\n",
      "video 1/1 (48/230) /content/drive/MyDrive/blind_man/blind_vid1.mp4: 256x416 (no detections), 15.7ms\n",
      "video 1/1 (49/230) /content/drive/MyDrive/blind_man/blind_vid1.mp4: 256x416 (no detections), 15.0ms\n",
      "video 1/1 (50/230) /content/drive/MyDrive/blind_man/blind_vid1.mp4: 256x416 (no detections), 11.5ms\n",
      "video 1/1 (51/230) /content/drive/MyDrive/blind_man/blind_vid1.mp4: 256x416 (no detections), 13.8ms\n",
      "video 1/1 (52/230) /content/drive/MyDrive/blind_man/blind_vid1.mp4: 256x416 (no detections), 10.8ms\n",
      "video 1/1 (53/230) /content/drive/MyDrive/blind_man/blind_vid1.mp4: 256x416 (no detections), 10.8ms\n",
      "video 1/1 (54/230) /content/drive/MyDrive/blind_man/blind_vid1.mp4: 256x416 (no detections), 10.5ms\n",
      "video 1/1 (55/230) /content/drive/MyDrive/blind_man/blind_vid1.mp4: 256x416 (no detections), 15.9ms\n",
      "video 1/1 (56/230) /content/drive/MyDrive/blind_man/blind_vid1.mp4: 256x416 (no detections), 14.3ms\n",
      "video 1/1 (57/230) /content/drive/MyDrive/blind_man/blind_vid1.mp4: 256x416 (no detections), 11.5ms\n",
      "video 1/1 (58/230) /content/drive/MyDrive/blind_man/blind_vid1.mp4: 256x416 (no detections), 10.6ms\n",
      "video 1/1 (59/230) /content/drive/MyDrive/blind_man/blind_vid1.mp4: 256x416 (no detections), 10.7ms\n",
      "video 1/1 (60/230) /content/drive/MyDrive/blind_man/blind_vid1.mp4: 256x416 1 whiteCane, 10.5ms\n",
      "video 1/1 (61/230) /content/drive/MyDrive/blind_man/blind_vid1.mp4: 256x416 1 whiteCane, 12.8ms\n",
      "video 1/1 (62/230) /content/drive/MyDrive/blind_man/blind_vid1.mp4: 256x416 1 whiteCane, 11.5ms\n",
      "video 1/1 (63/230) /content/drive/MyDrive/blind_man/blind_vid1.mp4: 256x416 1 whiteCane, 10.6ms\n",
      "video 1/1 (64/230) /content/drive/MyDrive/blind_man/blind_vid1.mp4: 256x416 (no detections), 10.9ms\n",
      "video 1/1 (65/230) /content/drive/MyDrive/blind_man/blind_vid1.mp4: 256x416 (no detections), 14.5ms\n",
      "video 1/1 (66/230) /content/drive/MyDrive/blind_man/blind_vid1.mp4: 256x416 (no detections), 11.3ms\n",
      "video 1/1 (67/230) /content/drive/MyDrive/blind_man/blind_vid1.mp4: 256x416 (no detections), 10.3ms\n",
      "video 1/1 (68/230) /content/drive/MyDrive/blind_man/blind_vid1.mp4: 256x416 (no detections), 10.4ms\n",
      "video 1/1 (69/230) /content/drive/MyDrive/blind_man/blind_vid1.mp4: 256x416 1 whiteCane, 10.0ms\n",
      "video 1/1 (70/230) /content/drive/MyDrive/blind_man/blind_vid1.mp4: 256x416 (no detections), 13.8ms\n",
      "video 1/1 (71/230) /content/drive/MyDrive/blind_man/blind_vid1.mp4: 256x416 (no detections), 11.3ms\n",
      "video 1/1 (72/230) /content/drive/MyDrive/blind_man/blind_vid1.mp4: 256x416 (no detections), 12.1ms\n",
      "video 1/1 (73/230) /content/drive/MyDrive/blind_man/blind_vid1.mp4: 256x416 (no detections), 10.1ms\n",
      "video 1/1 (74/230) /content/drive/MyDrive/blind_man/blind_vid1.mp4: 256x416 (no detections), 12.6ms\n",
      "video 1/1 (75/230) /content/drive/MyDrive/blind_man/blind_vid1.mp4: 256x416 (no detections), 11.5ms\n",
      "video 1/1 (76/230) /content/drive/MyDrive/blind_man/blind_vid1.mp4: 256x416 (no detections), 10.7ms\n",
      "video 1/1 (77/230) /content/drive/MyDrive/blind_man/blind_vid1.mp4: 256x416 (no detections), 10.6ms\n",
      "video 1/1 (78/230) /content/drive/MyDrive/blind_man/blind_vid1.mp4: 256x416 (no detections), 15.6ms\n",
      "video 1/1 (79/230) /content/drive/MyDrive/blind_man/blind_vid1.mp4: 256x416 (no detections), 15.3ms\n",
      "video 1/1 (80/230) /content/drive/MyDrive/blind_man/blind_vid1.mp4: 256x416 (no detections), 10.8ms\n",
      "video 1/1 (81/230) /content/drive/MyDrive/blind_man/blind_vid1.mp4: 256x416 (no detections), 10.9ms\n",
      "video 1/1 (82/230) /content/drive/MyDrive/blind_man/blind_vid1.mp4: 256x416 (no detections), 10.9ms\n",
      "video 1/1 (83/230) /content/drive/MyDrive/blind_man/blind_vid1.mp4: 256x416 (no detections), 10.7ms\n",
      "video 1/1 (84/230) /content/drive/MyDrive/blind_man/blind_vid1.mp4: 256x416 (no detections), 10.5ms\n",
      "video 1/1 (85/230) /content/drive/MyDrive/blind_man/blind_vid1.mp4: 256x416 (no detections), 12.5ms\n",
      "video 1/1 (86/230) /content/drive/MyDrive/blind_man/blind_vid1.mp4: 256x416 (no detections), 10.8ms\n",
      "video 1/1 (87/230) /content/drive/MyDrive/blind_man/blind_vid1.mp4: 256x416 (no detections), 15.7ms\n",
      "video 1/1 (88/230) /content/drive/MyDrive/blind_man/blind_vid1.mp4: 256x416 (no detections), 10.5ms\n",
      "video 1/1 (89/230) /content/drive/MyDrive/blind_man/blind_vid1.mp4: 256x416 (no detections), 10.1ms\n",
      "video 1/1 (90/230) /content/drive/MyDrive/blind_man/blind_vid1.mp4: 256x416 (no detections), 11.6ms\n",
      "video 1/1 (91/230) /content/drive/MyDrive/blind_man/blind_vid1.mp4: 256x416 (no detections), 11.1ms\n",
      "video 1/1 (92/230) /content/drive/MyDrive/blind_man/blind_vid1.mp4: 256x416 (no detections), 10.1ms\n",
      "video 1/1 (93/230) /content/drive/MyDrive/blind_man/blind_vid1.mp4: 256x416 (no detections), 9.9ms\n",
      "video 1/1 (94/230) /content/drive/MyDrive/blind_man/blind_vid1.mp4: 256x416 (no detections), 9.7ms\n",
      "video 1/1 (95/230) /content/drive/MyDrive/blind_man/blind_vid1.mp4: 256x416 (no detections), 10.8ms\n",
      "video 1/1 (96/230) /content/drive/MyDrive/blind_man/blind_vid1.mp4: 256x416 (no detections), 10.7ms\n",
      "video 1/1 (97/230) /content/drive/MyDrive/blind_man/blind_vid1.mp4: 256x416 (no detections), 10.5ms\n",
      "video 1/1 (98/230) /content/drive/MyDrive/blind_man/blind_vid1.mp4: 256x416 (no detections), 9.7ms\n",
      "video 1/1 (99/230) /content/drive/MyDrive/blind_man/blind_vid1.mp4: 256x416 (no detections), 15.8ms\n",
      "video 1/1 (100/230) /content/drive/MyDrive/blind_man/blind_vid1.mp4: 256x416 (no detections), 12.8ms\n",
      "video 1/1 (101/230) /content/drive/MyDrive/blind_man/blind_vid1.mp4: 256x416 (no detections), 10.1ms\n",
      "video 1/1 (102/230) /content/drive/MyDrive/blind_man/blind_vid1.mp4: 256x416 (no detections), 11.0ms\n",
      "video 1/1 (103/230) /content/drive/MyDrive/blind_man/blind_vid1.mp4: 256x416 (no detections), 11.1ms\n",
      "video 1/1 (104/230) /content/drive/MyDrive/blind_man/blind_vid1.mp4: 256x416 (no detections), 14.2ms\n",
      "video 1/1 (105/230) /content/drive/MyDrive/blind_man/blind_vid1.mp4: 256x416 (no detections), 14.3ms\n",
      "video 1/1 (106/230) /content/drive/MyDrive/blind_man/blind_vid1.mp4: 256x416 (no detections), 14.6ms\n",
      "video 1/1 (107/230) /content/drive/MyDrive/blind_man/blind_vid1.mp4: 256x416 (no detections), 11.1ms\n",
      "video 1/1 (108/230) /content/drive/MyDrive/blind_man/blind_vid1.mp4: 256x416 (no detections), 17.6ms\n",
      "video 1/1 (109/230) /content/drive/MyDrive/blind_man/blind_vid1.mp4: 256x416 (no detections), 20.0ms\n",
      "video 1/1 (110/230) /content/drive/MyDrive/blind_man/blind_vid1.mp4: 256x416 (no detections), 13.7ms\n",
      "video 1/1 (111/230) /content/drive/MyDrive/blind_man/blind_vid1.mp4: 256x416 (no detections), 15.2ms\n",
      "video 1/1 (112/230) /content/drive/MyDrive/blind_man/blind_vid1.mp4: 256x416 (no detections), 14.9ms\n",
      "video 1/1 (113/230) /content/drive/MyDrive/blind_man/blind_vid1.mp4: 256x416 (no detections), 11.5ms\n",
      "video 1/1 (114/230) /content/drive/MyDrive/blind_man/blind_vid1.mp4: 256x416 (no detections), 19.7ms\n",
      "video 1/1 (115/230) /content/drive/MyDrive/blind_man/blind_vid1.mp4: 256x416 (no detections), 11.1ms\n",
      "video 1/1 (116/230) /content/drive/MyDrive/blind_man/blind_vid1.mp4: 256x416 (no detections), 10.8ms\n",
      "video 1/1 (117/230) /content/drive/MyDrive/blind_man/blind_vid1.mp4: 256x416 (no detections), 11.2ms\n",
      "video 1/1 (118/230) /content/drive/MyDrive/blind_man/blind_vid1.mp4: 256x416 (no detections), 14.8ms\n",
      "video 1/1 (119/230) /content/drive/MyDrive/blind_man/blind_vid1.mp4: 256x416 (no detections), 12.3ms\n",
      "video 1/1 (120/230) /content/drive/MyDrive/blind_man/blind_vid1.mp4: 256x416 (no detections), 13.5ms\n",
      "video 1/1 (121/230) /content/drive/MyDrive/blind_man/blind_vid1.mp4: 256x416 (no detections), 10.4ms\n",
      "video 1/1 (122/230) /content/drive/MyDrive/blind_man/blind_vid1.mp4: 256x416 (no detections), 10.3ms\n",
      "video 1/1 (123/230) /content/drive/MyDrive/blind_man/blind_vid1.mp4: 256x416 1 guide dog, 10.2ms\n",
      "video 1/1 (124/230) /content/drive/MyDrive/blind_man/blind_vid1.mp4: 256x416 (no detections), 11.5ms\n",
      "video 1/1 (125/230) /content/drive/MyDrive/blind_man/blind_vid1.mp4: 256x416 (no detections), 11.5ms\n",
      "video 1/1 (126/230) /content/drive/MyDrive/blind_man/blind_vid1.mp4: 256x416 (no detections), 10.4ms\n",
      "video 1/1 (127/230) /content/drive/MyDrive/blind_man/blind_vid1.mp4: 256x416 (no detections), 10.8ms\n",
      "video 1/1 (128/230) /content/drive/MyDrive/blind_man/blind_vid1.mp4: 256x416 (no detections), 10.9ms\n",
      "video 1/1 (129/230) /content/drive/MyDrive/blind_man/blind_vid1.mp4: 256x416 (no detections), 10.6ms\n",
      "video 1/1 (130/230) /content/drive/MyDrive/blind_man/blind_vid1.mp4: 256x416 (no detections), 11.2ms\n",
      "video 1/1 (131/230) /content/drive/MyDrive/blind_man/blind_vid1.mp4: 256x416 (no detections), 10.7ms\n",
      "video 1/1 (132/230) /content/drive/MyDrive/blind_man/blind_vid1.mp4: 256x416 (no detections), 12.7ms\n",
      "video 1/1 (133/230) /content/drive/MyDrive/blind_man/blind_vid1.mp4: 256x416 (no detections), 11.4ms\n",
      "video 1/1 (134/230) /content/drive/MyDrive/blind_man/blind_vid1.mp4: 256x416 (no detections), 10.0ms\n",
      "video 1/1 (135/230) /content/drive/MyDrive/blind_man/blind_vid1.mp4: 256x416 (no detections), 10.2ms\n",
      "video 1/1 (136/230) /content/drive/MyDrive/blind_man/blind_vid1.mp4: 256x416 (no detections), 12.4ms\n",
      "video 1/1 (137/230) /content/drive/MyDrive/blind_man/blind_vid1.mp4: 256x416 (no detections), 10.2ms\n",
      "video 1/1 (138/230) /content/drive/MyDrive/blind_man/blind_vid1.mp4: 256x416 (no detections), 10.8ms\n",
      "video 1/1 (139/230) /content/drive/MyDrive/blind_man/blind_vid1.mp4: 256x416 (no detections), 10.5ms\n",
      "video 1/1 (140/230) /content/drive/MyDrive/blind_man/blind_vid1.mp4: 256x416 (no detections), 9.8ms\n",
      "video 1/1 (141/230) /content/drive/MyDrive/blind_man/blind_vid1.mp4: 256x416 (no detections), 10.2ms\n",
      "video 1/1 (142/230) /content/drive/MyDrive/blind_man/blind_vid1.mp4: 256x416 (no detections), 10.7ms\n",
      "video 1/1 (143/230) /content/drive/MyDrive/blind_man/blind_vid1.mp4: 256x416 (no detections), 16.7ms\n",
      "video 1/1 (144/230) /content/drive/MyDrive/blind_man/blind_vid1.mp4: 256x416 (no detections), 11.0ms\n",
      "video 1/1 (145/230) /content/drive/MyDrive/blind_man/blind_vid1.mp4: 256x416 (no detections), 14.2ms\n",
      "video 1/1 (146/230) /content/drive/MyDrive/blind_man/blind_vid1.mp4: 256x416 (no detections), 10.2ms\n",
      "video 1/1 (147/230) /content/drive/MyDrive/blind_man/blind_vid1.mp4: 256x416 (no detections), 10.2ms\n",
      "video 1/1 (148/230) /content/drive/MyDrive/blind_man/blind_vid1.mp4: 256x416 (no detections), 12.6ms\n",
      "video 1/1 (149/230) /content/drive/MyDrive/blind_man/blind_vid1.mp4: 256x416 (no detections), 13.7ms\n",
      "video 1/1 (150/230) /content/drive/MyDrive/blind_man/blind_vid1.mp4: 256x416 (no detections), 9.8ms\n",
      "video 1/1 (151/230) /content/drive/MyDrive/blind_man/blind_vid1.mp4: 256x416 (no detections), 10.4ms\n",
      "video 1/1 (152/230) /content/drive/MyDrive/blind_man/blind_vid1.mp4: 256x416 (no detections), 9.8ms\n",
      "video 1/1 (153/230) /content/drive/MyDrive/blind_man/blind_vid1.mp4: 256x416 (no detections), 16.0ms\n",
      "video 1/1 (154/230) /content/drive/MyDrive/blind_man/blind_vid1.mp4: 256x416 (no detections), 17.3ms\n",
      "video 1/1 (155/230) /content/drive/MyDrive/blind_man/blind_vid1.mp4: 256x416 (no detections), 17.2ms\n",
      "video 1/1 (156/230) /content/drive/MyDrive/blind_man/blind_vid1.mp4: 256x416 (no detections), 19.1ms\n",
      "video 1/1 (157/230) /content/drive/MyDrive/blind_man/blind_vid1.mp4: 256x416 (no detections), 10.8ms\n",
      "video 1/1 (158/230) /content/drive/MyDrive/blind_man/blind_vid1.mp4: 256x416 (no detections), 12.0ms\n",
      "video 1/1 (159/230) /content/drive/MyDrive/blind_man/blind_vid1.mp4: 256x416 (no detections), 10.4ms\n",
      "video 1/1 (160/230) /content/drive/MyDrive/blind_man/blind_vid1.mp4: 256x416 (no detections), 10.8ms\n",
      "video 1/1 (161/230) /content/drive/MyDrive/blind_man/blind_vid1.mp4: 256x416 (no detections), 11.9ms\n",
      "video 1/1 (162/230) /content/drive/MyDrive/blind_man/blind_vid1.mp4: 256x416 (no detections), 17.8ms\n",
      "video 1/1 (163/230) /content/drive/MyDrive/blind_man/blind_vid1.mp4: 256x416 (no detections), 12.5ms\n",
      "video 1/1 (164/230) /content/drive/MyDrive/blind_man/blind_vid1.mp4: 256x416 (no detections), 10.6ms\n",
      "video 1/1 (165/230) /content/drive/MyDrive/blind_man/blind_vid1.mp4: 256x416 (no detections), 11.0ms\n",
      "video 1/1 (166/230) /content/drive/MyDrive/blind_man/blind_vid1.mp4: 256x416 (no detections), 10.2ms\n",
      "video 1/1 (167/230) /content/drive/MyDrive/blind_man/blind_vid1.mp4: 256x416 (no detections), 11.2ms\n",
      "video 1/1 (168/230) /content/drive/MyDrive/blind_man/blind_vid1.mp4: 256x416 (no detections), 10.6ms\n",
      "video 1/1 (169/230) /content/drive/MyDrive/blind_man/blind_vid1.mp4: 256x416 (no detections), 14.1ms\n",
      "video 1/1 (170/230) /content/drive/MyDrive/blind_man/blind_vid1.mp4: 256x416 (no detections), 11.9ms\n",
      "video 1/1 (171/230) /content/drive/MyDrive/blind_man/blind_vid1.mp4: 256x416 (no detections), 10.2ms\n",
      "video 1/1 (172/230) /content/drive/MyDrive/blind_man/blind_vid1.mp4: 256x416 (no detections), 11.4ms\n",
      "video 1/1 (173/230) /content/drive/MyDrive/blind_man/blind_vid1.mp4: 256x416 (no detections), 10.8ms\n",
      "video 1/1 (174/230) /content/drive/MyDrive/blind_man/blind_vid1.mp4: 256x416 (no detections), 14.8ms\n",
      "video 1/1 (175/230) /content/drive/MyDrive/blind_man/blind_vid1.mp4: 256x416 (no detections), 10.5ms\n",
      "video 1/1 (176/230) /content/drive/MyDrive/blind_man/blind_vid1.mp4: 256x416 (no detections), 10.9ms\n",
      "video 1/1 (177/230) /content/drive/MyDrive/blind_man/blind_vid1.mp4: 256x416 (no detections), 11.1ms\n",
      "video 1/1 (178/230) /content/drive/MyDrive/blind_man/blind_vid1.mp4: 256x416 (no detections), 10.5ms\n",
      "video 1/1 (179/230) /content/drive/MyDrive/blind_man/blind_vid1.mp4: 256x416 (no detections), 10.5ms\n",
      "video 1/1 (180/230) /content/drive/MyDrive/blind_man/blind_vid1.mp4: 256x416 (no detections), 20.7ms\n",
      "video 1/1 (181/230) /content/drive/MyDrive/blind_man/blind_vid1.mp4: 256x416 (no detections), 17.2ms\n",
      "video 1/1 (182/230) /content/drive/MyDrive/blind_man/blind_vid1.mp4: 256x416 (no detections), 13.9ms\n",
      "video 1/1 (183/230) /content/drive/MyDrive/blind_man/blind_vid1.mp4: 256x416 (no detections), 10.0ms\n",
      "video 1/1 (184/230) /content/drive/MyDrive/blind_man/blind_vid1.mp4: 256x416 (no detections), 10.7ms\n",
      "video 1/1 (185/230) /content/drive/MyDrive/blind_man/blind_vid1.mp4: 256x416 (no detections), 12.1ms\n",
      "video 1/1 (186/230) /content/drive/MyDrive/blind_man/blind_vid1.mp4: 256x416 (no detections), 11.1ms\n",
      "video 1/1 (187/230) /content/drive/MyDrive/blind_man/blind_vid1.mp4: 256x416 (no detections), 12.1ms\n",
      "video 1/1 (188/230) /content/drive/MyDrive/blind_man/blind_vid1.mp4: 256x416 (no detections), 11.1ms\n",
      "video 1/1 (189/230) /content/drive/MyDrive/blind_man/blind_vid1.mp4: 256x416 (no detections), 15.2ms\n",
      "video 1/1 (190/230) /content/drive/MyDrive/blind_man/blind_vid1.mp4: 256x416 (no detections), 17.7ms\n",
      "video 1/1 (191/230) /content/drive/MyDrive/blind_man/blind_vid1.mp4: 256x416 (no detections), 13.7ms\n",
      "video 1/1 (192/230) /content/drive/MyDrive/blind_man/blind_vid1.mp4: 256x416 (no detections), 14.0ms\n",
      "video 1/1 (193/230) /content/drive/MyDrive/blind_man/blind_vid1.mp4: 256x416 (no detections), 14.1ms\n",
      "video 1/1 (194/230) /content/drive/MyDrive/blind_man/blind_vid1.mp4: 256x416 (no detections), 11.2ms\n",
      "video 1/1 (195/230) /content/drive/MyDrive/blind_man/blind_vid1.mp4: 256x416 (no detections), 17.9ms\n",
      "video 1/1 (196/230) /content/drive/MyDrive/blind_man/blind_vid1.mp4: 256x416 (no detections), 10.2ms\n",
      "video 1/1 (197/230) /content/drive/MyDrive/blind_man/blind_vid1.mp4: 256x416 (no detections), 10.3ms\n",
      "video 1/1 (198/230) /content/drive/MyDrive/blind_man/blind_vid1.mp4: 256x416 (no detections), 11.9ms\n",
      "video 1/1 (199/230) /content/drive/MyDrive/blind_man/blind_vid1.mp4: 256x416 (no detections), 13.0ms\n",
      "video 1/1 (200/230) /content/drive/MyDrive/blind_man/blind_vid1.mp4: 256x416 (no detections), 10.7ms\n",
      "video 1/1 (201/230) /content/drive/MyDrive/blind_man/blind_vid1.mp4: 256x416 (no detections), 9.7ms\n",
      "video 1/1 (202/230) /content/drive/MyDrive/blind_man/blind_vid1.mp4: 256x416 (no detections), 10.1ms\n",
      "video 1/1 (203/230) /content/drive/MyDrive/blind_man/blind_vid1.mp4: 256x416 (no detections), 10.4ms\n",
      "video 1/1 (204/230) /content/drive/MyDrive/blind_man/blind_vid1.mp4: 256x416 (no detections), 10.1ms\n",
      "video 1/1 (205/230) /content/drive/MyDrive/blind_man/blind_vid1.mp4: 256x416 (no detections), 9.7ms\n",
      "video 1/1 (206/230) /content/drive/MyDrive/blind_man/blind_vid1.mp4: 256x416 (no detections), 10.0ms\n",
      "video 1/1 (207/230) /content/drive/MyDrive/blind_man/blind_vid1.mp4: 256x416 (no detections), 10.2ms\n",
      "video 1/1 (208/230) /content/drive/MyDrive/blind_man/blind_vid1.mp4: 256x416 (no detections), 12.7ms\n",
      "video 1/1 (209/230) /content/drive/MyDrive/blind_man/blind_vid1.mp4: 256x416 (no detections), 11.1ms\n",
      "video 1/1 (210/230) /content/drive/MyDrive/blind_man/blind_vid1.mp4: 256x416 (no detections), 12.7ms\n",
      "video 1/1 (211/230) /content/drive/MyDrive/blind_man/blind_vid1.mp4: 256x416 (no detections), 15.8ms\n",
      "video 1/1 (212/230) /content/drive/MyDrive/blind_man/blind_vid1.mp4: 256x416 (no detections), 12.1ms\n",
      "video 1/1 (213/230) /content/drive/MyDrive/blind_man/blind_vid1.mp4: 256x416 (no detections), 12.6ms\n",
      "video 1/1 (214/230) /content/drive/MyDrive/blind_man/blind_vid1.mp4: 256x416 (no detections), 11.5ms\n",
      "video 1/1 (215/230) /content/drive/MyDrive/blind_man/blind_vid1.mp4: 256x416 (no detections), 12.8ms\n",
      "video 1/1 (216/230) /content/drive/MyDrive/blind_man/blind_vid1.mp4: 256x416 (no detections), 12.9ms\n",
      "video 1/1 (217/230) /content/drive/MyDrive/blind_man/blind_vid1.mp4: 256x416 (no detections), 19.4ms\n",
      "video 1/1 (218/230) /content/drive/MyDrive/blind_man/blind_vid1.mp4: 256x416 (no detections), 11.0ms\n",
      "video 1/1 (219/230) /content/drive/MyDrive/blind_man/blind_vid1.mp4: 256x416 (no detections), 10.8ms\n",
      "video 1/1 (220/230) /content/drive/MyDrive/blind_man/blind_vid1.mp4: 256x416 (no detections), 16.2ms\n",
      "video 1/1 (221/230) /content/drive/MyDrive/blind_man/blind_vid1.mp4: 256x416 (no detections), 12.4ms\n",
      "video 1/1 (222/230) /content/drive/MyDrive/blind_man/blind_vid1.mp4: 256x416 (no detections), 10.5ms\n",
      "video 1/1 (223/230) /content/drive/MyDrive/blind_man/blind_vid1.mp4: 256x416 (no detections), 10.5ms\n",
      "video 1/1 (224/230) /content/drive/MyDrive/blind_man/blind_vid1.mp4: 256x416 (no detections), 11.2ms\n",
      "video 1/1 (225/230) /content/drive/MyDrive/blind_man/blind_vid1.mp4: 256x416 (no detections), 9.7ms\n",
      "video 1/1 (226/230) /content/drive/MyDrive/blind_man/blind_vid1.mp4: 256x416 (no detections), 14.7ms\n",
      "video 1/1 (227/230) /content/drive/MyDrive/blind_man/blind_vid1.mp4: 256x416 (no detections), 11.8ms\n",
      "video 1/1 (228/230) /content/drive/MyDrive/blind_man/blind_vid1.mp4: 256x416 (no detections), 10.2ms\n",
      "video 1/1 (229/230) /content/drive/MyDrive/blind_man/blind_vid1.mp4: 256x416 (no detections), 9.8ms\n",
      "video 1/1 (230/230) /content/drive/MyDrive/blind_man/blind_vid1.mp4: 256x416 (no detections), 12.7ms\n",
      "Speed: 0.4ms pre-process, 12.0ms inference, 3.4ms NMS per image at shape (1, 3, 416, 416)\n",
      "Results saved to \u001b[1m/content/result_image\u001b[0m\n"
     ]
    }
   ],
   "source": [
    "!python detect.py --source '{TEST_VIDEO_PATH}'  --weights /content/yolov5/runs/train/blind_man/weights/best.pt  --img 416  --conf 0.5 --project /content/ --name=result_image --exist-ok --line-thickness 5"
   ]
  },
  {
   "cell_type": "code",
   "execution_count": 16,
   "metadata": {
    "executionInfo": {
     "elapsed": 3,
     "status": "ok",
     "timestamp": 1703130990523,
     "user": {
      "displayName": "안이",
      "userId": "11737815484813947023"
     },
     "user_tz": -540
    },
    "id": "U61gLZ5obyOo"
   },
   "outputs": [],
   "source": [
    "detect_video = '/content/result_image/blind_vid1.mp4' # 경로 수정\n",
    "\n",
    "# 비디오 데이터 압축 (Colab에서 실행 목적)\n",
    "def video_compressing(detect_video):\n",
    "  compressed_video = detect_video[:-4] + \"_compressed.mp4\"\n",
    "  os.system(f\"ffmpeg -i {detect_video} -vcodec libx264 {compressed_video}\")\n",
    "\n",
    "  return compressed_video"
   ]
  },
  {
   "cell_type": "code",
   "execution_count": 17,
   "metadata": {
    "colab": {
     "base_uri": "https://localhost:8080/",
     "height": 222,
     "output_embedded_package_id": "19nWyQijBLNgC9oFtDGCnscFAV4UDGK5c"
    },
    "executionInfo": {
     "elapsed": 25684,
     "status": "ok",
     "timestamp": 1703131016205,
     "user": {
      "displayName": "안이",
      "userId": "11737815484813947023"
     },
     "user_tz": -540
    },
    "id": "C5lgDqnWb07Z",
    "outputId": "06496f40-01fd-4e70-88bf-e867e9f08cc0"
   },
   "outputs": [
    {
     "data": {
      "text/plain": [
       "Output hidden; open in https://colab.research.google.com to view."
      ]
     },
     "metadata": {},
     "output_type": "display_data"
    }
   ],
   "source": [
    "import os\n",
    "compressed_video = video_compressing(detect_video)\n",
    "\n",
    "from IPython.display import HTML\n",
    "from base64 import b64encode\n",
    "\n",
    "mp4 = open(compressed_video,'rb').read()\n",
    "data_url = \"data:video/mp4;base64,\" + b64encode(mp4).decode()\n",
    "HTML(\"\"\"\n",
    "<video width=400 controls>\n",
    "    <source src=\"%s\" type=\"video/mp4\">\n",
    "</video>\n",
    "\"\"\" % data_url)"
   ]
  },
  {
   "cell_type": "code",
   "execution_count": 18,
   "metadata": {
    "colab": {
     "base_uri": "https://localhost:8080/"
    },
    "executionInfo": {
     "elapsed": 10207,
     "status": "ok",
     "timestamp": 1703131026408,
     "user": {
      "displayName": "안이",
      "userId": "11737815484813947023"
     },
     "user_tz": -540
    },
    "id": "crF5ymZ3b80f",
    "outputId": "d8785bcc-44e2-4121-d158-6107ecb310d1"
   },
   "outputs": [
    {
     "name": "stdout",
     "output_type": "stream",
     "text": [
      "\u001b[34m\u001b[1mdetect: \u001b[0mweights=['/content/yolov5/runs/train/blind_man/weights/best.pt'], source=/content/drive/MyDrive/blind_man/blind_vid2.mp4, data=data/coco128.yaml, imgsz=[416, 416], conf_thres=0.5, iou_thres=0.45, max_det=1000, device=, view_img=False, save_txt=False, save_csv=False, save_conf=False, save_crop=False, nosave=False, classes=None, agnostic_nms=False, augment=False, visualize=False, update=False, project=/content/, name=result_image, exist_ok=True, line_thickness=5, hide_labels=False, hide_conf=False, half=False, dnn=False, vid_stride=1\n",
      "YOLOv5 🚀 v7.0-253-g63555c8 Python-3.10.12 torch-2.1.0+cu121 CUDA:0 (Tesla V100-SXM2-16GB, 16151MiB)\n",
      "\n",
      "Fusing layers... \n",
      "Model summary: 212 layers, 20856975 parameters, 0 gradients, 47.9 GFLOPs\n",
      "WARNING ⚠️ NMS time limit 0.550s exceeded\n",
      "video 1/1 (1/354) /content/drive/MyDrive/blind_man/blind_vid2.mp4: 224x416 1 guide dog, 78.0ms\n",
      "video 1/1 (2/354) /content/drive/MyDrive/blind_man/blind_vid2.mp4: 224x416 1 guide dog, 8.3ms\n",
      "video 1/1 (3/354) /content/drive/MyDrive/blind_man/blind_vid2.mp4: 224x416 1 guide dog, 7.6ms\n",
      "video 1/1 (4/354) /content/drive/MyDrive/blind_man/blind_vid2.mp4: 224x416 1 guide dog, 7.9ms\n",
      "video 1/1 (5/354) /content/drive/MyDrive/blind_man/blind_vid2.mp4: 224x416 1 guide dog, 8.1ms\n",
      "video 1/1 (6/354) /content/drive/MyDrive/blind_man/blind_vid2.mp4: 224x416 1 guide dog, 8.0ms\n",
      "video 1/1 (7/354) /content/drive/MyDrive/blind_man/blind_vid2.mp4: 224x416 1 guide dog, 9.1ms\n",
      "video 1/1 (8/354) /content/drive/MyDrive/blind_man/blind_vid2.mp4: 224x416 1 guide dog, 8.1ms\n",
      "video 1/1 (9/354) /content/drive/MyDrive/blind_man/blind_vid2.mp4: 224x416 1 guide dog, 8.4ms\n",
      "video 1/1 (10/354) /content/drive/MyDrive/blind_man/blind_vid2.mp4: 224x416 1 guide dog, 9.4ms\n",
      "video 1/1 (11/354) /content/drive/MyDrive/blind_man/blind_vid2.mp4: 224x416 1 guide dog, 13.5ms\n",
      "video 1/1 (12/354) /content/drive/MyDrive/blind_man/blind_vid2.mp4: 224x416 1 guide dog, 7.5ms\n",
      "video 1/1 (13/354) /content/drive/MyDrive/blind_man/blind_vid2.mp4: 224x416 1 guide dog, 9.8ms\n",
      "video 1/1 (14/354) /content/drive/MyDrive/blind_man/blind_vid2.mp4: 224x416 1 guide dog, 8.3ms\n",
      "video 1/1 (15/354) /content/drive/MyDrive/blind_man/blind_vid2.mp4: 224x416 1 guide dog, 8.4ms\n",
      "video 1/1 (16/354) /content/drive/MyDrive/blind_man/blind_vid2.mp4: 224x416 1 guide dog, 10.2ms\n",
      "video 1/1 (17/354) /content/drive/MyDrive/blind_man/blind_vid2.mp4: 224x416 1 guide dog, 10.7ms\n",
      "video 1/1 (18/354) /content/drive/MyDrive/blind_man/blind_vid2.mp4: 224x416 1 guide dog, 8.9ms\n",
      "video 1/1 (19/354) /content/drive/MyDrive/blind_man/blind_vid2.mp4: 224x416 1 guide dog, 8.5ms\n",
      "video 1/1 (20/354) /content/drive/MyDrive/blind_man/blind_vid2.mp4: 224x416 1 guide dog, 14.7ms\n",
      "video 1/1 (21/354) /content/drive/MyDrive/blind_man/blind_vid2.mp4: 224x416 1 guide dog, 8.9ms\n",
      "video 1/1 (22/354) /content/drive/MyDrive/blind_man/blind_vid2.mp4: 224x416 1 guide dog, 8.5ms\n",
      "video 1/1 (23/354) /content/drive/MyDrive/blind_man/blind_vid2.mp4: 224x416 1 guide dog, 9.3ms\n",
      "video 1/1 (24/354) /content/drive/MyDrive/blind_man/blind_vid2.mp4: 224x416 1 guide dog, 14.6ms\n",
      "video 1/1 (25/354) /content/drive/MyDrive/blind_man/blind_vid2.mp4: 224x416 1 guide dog, 13.2ms\n",
      "video 1/1 (26/354) /content/drive/MyDrive/blind_man/blind_vid2.mp4: 224x416 1 guide dog, 14.4ms\n",
      "video 1/1 (27/354) /content/drive/MyDrive/blind_man/blind_vid2.mp4: 224x416 1 guide dog, 12.5ms\n",
      "video 1/1 (28/354) /content/drive/MyDrive/blind_man/blind_vid2.mp4: 224x416 1 guide dog, 13.0ms\n",
      "video 1/1 (29/354) /content/drive/MyDrive/blind_man/blind_vid2.mp4: 224x416 1 guide dog, 12.9ms\n",
      "video 1/1 (30/354) /content/drive/MyDrive/blind_man/blind_vid2.mp4: 224x416 1 guide dog, 9.8ms\n",
      "video 1/1 (31/354) /content/drive/MyDrive/blind_man/blind_vid2.mp4: 224x416 1 guide dog, 10.5ms\n",
      "video 1/1 (32/354) /content/drive/MyDrive/blind_man/blind_vid2.mp4: 224x416 (no detections), 11.9ms\n",
      "video 1/1 (33/354) /content/drive/MyDrive/blind_man/blind_vid2.mp4: 224x416 (no detections), 12.0ms\n",
      "video 1/1 (34/354) /content/drive/MyDrive/blind_man/blind_vid2.mp4: 224x416 (no detections), 13.5ms\n",
      "video 1/1 (35/354) /content/drive/MyDrive/blind_man/blind_vid2.mp4: 224x416 (no detections), 10.8ms\n",
      "video 1/1 (36/354) /content/drive/MyDrive/blind_man/blind_vid2.mp4: 224x416 (no detections), 13.8ms\n",
      "video 1/1 (37/354) /content/drive/MyDrive/blind_man/blind_vid2.mp4: 224x416 (no detections), 14.4ms\n",
      "video 1/1 (38/354) /content/drive/MyDrive/blind_man/blind_vid2.mp4: 224x416 (no detections), 13.5ms\n",
      "video 1/1 (39/354) /content/drive/MyDrive/blind_man/blind_vid2.mp4: 224x416 (no detections), 10.2ms\n",
      "video 1/1 (40/354) /content/drive/MyDrive/blind_man/blind_vid2.mp4: 224x416 (no detections), 13.7ms\n",
      "video 1/1 (41/354) /content/drive/MyDrive/blind_man/blind_vid2.mp4: 224x416 (no detections), 13.0ms\n",
      "video 1/1 (42/354) /content/drive/MyDrive/blind_man/blind_vid2.mp4: 224x416 (no detections), 13.7ms\n",
      "video 1/1 (43/354) /content/drive/MyDrive/blind_man/blind_vid2.mp4: 224x416 (no detections), 12.0ms\n",
      "video 1/1 (44/354) /content/drive/MyDrive/blind_man/blind_vid2.mp4: 224x416 (no detections), 10.8ms\n",
      "video 1/1 (45/354) /content/drive/MyDrive/blind_man/blind_vid2.mp4: 224x416 (no detections), 9.8ms\n",
      "video 1/1 (46/354) /content/drive/MyDrive/blind_man/blind_vid2.mp4: 224x416 (no detections), 12.5ms\n",
      "video 1/1 (47/354) /content/drive/MyDrive/blind_man/blind_vid2.mp4: 224x416 (no detections), 11.0ms\n",
      "video 1/1 (48/354) /content/drive/MyDrive/blind_man/blind_vid2.mp4: 224x416 (no detections), 10.0ms\n",
      "video 1/1 (49/354) /content/drive/MyDrive/blind_man/blind_vid2.mp4: 224x416 (no detections), 9.8ms\n",
      "video 1/1 (50/354) /content/drive/MyDrive/blind_man/blind_vid2.mp4: 224x416 (no detections), 10.0ms\n",
      "video 1/1 (51/354) /content/drive/MyDrive/blind_man/blind_vid2.mp4: 224x416 (no detections), 10.5ms\n",
      "video 1/1 (52/354) /content/drive/MyDrive/blind_man/blind_vid2.mp4: 224x416 (no detections), 16.5ms\n",
      "video 1/1 (53/354) /content/drive/MyDrive/blind_man/blind_vid2.mp4: 224x416 (no detections), 17.9ms\n",
      "video 1/1 (54/354) /content/drive/MyDrive/blind_man/blind_vid2.mp4: 224x416 (no detections), 10.4ms\n",
      "video 1/1 (55/354) /content/drive/MyDrive/blind_man/blind_vid2.mp4: 224x416 (no detections), 13.7ms\n",
      "video 1/1 (56/354) /content/drive/MyDrive/blind_man/blind_vid2.mp4: 224x416 (no detections), 9.9ms\n",
      "video 1/1 (57/354) /content/drive/MyDrive/blind_man/blind_vid2.mp4: 224x416 (no detections), 10.1ms\n",
      "video 1/1 (58/354) /content/drive/MyDrive/blind_man/blind_vid2.mp4: 224x416 (no detections), 10.0ms\n",
      "video 1/1 (59/354) /content/drive/MyDrive/blind_man/blind_vid2.mp4: 224x416 (no detections), 10.0ms\n",
      "video 1/1 (60/354) /content/drive/MyDrive/blind_man/blind_vid2.mp4: 224x416 (no detections), 10.9ms\n",
      "video 1/1 (61/354) /content/drive/MyDrive/blind_man/blind_vid2.mp4: 224x416 (no detections), 10.9ms\n",
      "video 1/1 (62/354) /content/drive/MyDrive/blind_man/blind_vid2.mp4: 224x416 (no detections), 11.9ms\n",
      "video 1/1 (63/354) /content/drive/MyDrive/blind_man/blind_vid2.mp4: 224x416 (no detections), 12.2ms\n",
      "video 1/1 (64/354) /content/drive/MyDrive/blind_man/blind_vid2.mp4: 224x416 (no detections), 12.6ms\n",
      "video 1/1 (65/354) /content/drive/MyDrive/blind_man/blind_vid2.mp4: 224x416 (no detections), 9.8ms\n",
      "video 1/1 (66/354) /content/drive/MyDrive/blind_man/blind_vid2.mp4: 224x416 (no detections), 10.0ms\n",
      "video 1/1 (67/354) /content/drive/MyDrive/blind_man/blind_vid2.mp4: 224x416 (no detections), 9.9ms\n",
      "video 1/1 (68/354) /content/drive/MyDrive/blind_man/blind_vid2.mp4: 224x416 (no detections), 11.1ms\n",
      "video 1/1 (69/354) /content/drive/MyDrive/blind_man/blind_vid2.mp4: 224x416 (no detections), 14.9ms\n",
      "video 1/1 (70/354) /content/drive/MyDrive/blind_man/blind_vid2.mp4: 224x416 (no detections), 9.8ms\n",
      "video 1/1 (71/354) /content/drive/MyDrive/blind_man/blind_vid2.mp4: 224x416 (no detections), 9.5ms\n",
      "video 1/1 (72/354) /content/drive/MyDrive/blind_man/blind_vid2.mp4: 224x416 (no detections), 9.4ms\n",
      "video 1/1 (73/354) /content/drive/MyDrive/blind_man/blind_vid2.mp4: 224x416 (no detections), 9.7ms\n",
      "video 1/1 (74/354) /content/drive/MyDrive/blind_man/blind_vid2.mp4: 224x416 (no detections), 15.7ms\n",
      "video 1/1 (75/354) /content/drive/MyDrive/blind_man/blind_vid2.mp4: 224x416 (no detections), 16.4ms\n",
      "video 1/1 (76/354) /content/drive/MyDrive/blind_man/blind_vid2.mp4: 224x416 (no detections), 15.2ms\n",
      "video 1/1 (77/354) /content/drive/MyDrive/blind_man/blind_vid2.mp4: 224x416 (no detections), 20.1ms\n",
      "video 1/1 (78/354) /content/drive/MyDrive/blind_man/blind_vid2.mp4: 224x416 (no detections), 20.7ms\n",
      "video 1/1 (79/354) /content/drive/MyDrive/blind_man/blind_vid2.mp4: 224x416 (no detections), 10.2ms\n",
      "video 1/1 (80/354) /content/drive/MyDrive/blind_man/blind_vid2.mp4: 224x416 (no detections), 9.6ms\n",
      "video 1/1 (81/354) /content/drive/MyDrive/blind_man/blind_vid2.mp4: 224x416 (no detections), 10.0ms\n",
      "video 1/1 (82/354) /content/drive/MyDrive/blind_man/blind_vid2.mp4: 224x416 (no detections), 9.6ms\n",
      "video 1/1 (83/354) /content/drive/MyDrive/blind_man/blind_vid2.mp4: 224x416 (no detections), 9.6ms\n",
      "video 1/1 (84/354) /content/drive/MyDrive/blind_man/blind_vid2.mp4: 224x416 (no detections), 9.5ms\n",
      "video 1/1 (85/354) /content/drive/MyDrive/blind_man/blind_vid2.mp4: 224x416 (no detections), 11.5ms\n",
      "video 1/1 (86/354) /content/drive/MyDrive/blind_man/blind_vid2.mp4: 224x416 (no detections), 13.6ms\n",
      "video 1/1 (87/354) /content/drive/MyDrive/blind_man/blind_vid2.mp4: 224x416 (no detections), 10.6ms\n",
      "video 1/1 (88/354) /content/drive/MyDrive/blind_man/blind_vid2.mp4: 224x416 (no detections), 10.2ms\n",
      "video 1/1 (89/354) /content/drive/MyDrive/blind_man/blind_vid2.mp4: 224x416 (no detections), 12.8ms\n",
      "video 1/1 (90/354) /content/drive/MyDrive/blind_man/blind_vid2.mp4: 224x416 (no detections), 11.4ms\n",
      "video 1/1 (91/354) /content/drive/MyDrive/blind_man/blind_vid2.mp4: 224x416 (no detections), 11.6ms\n",
      "video 1/1 (92/354) /content/drive/MyDrive/blind_man/blind_vid2.mp4: 224x416 (no detections), 14.1ms\n",
      "video 1/1 (93/354) /content/drive/MyDrive/blind_man/blind_vid2.mp4: 224x416 (no detections), 10.9ms\n",
      "video 1/1 (94/354) /content/drive/MyDrive/blind_man/blind_vid2.mp4: 224x416 (no detections), 12.2ms\n",
      "video 1/1 (95/354) /content/drive/MyDrive/blind_man/blind_vid2.mp4: 224x416 (no detections), 11.0ms\n",
      "video 1/1 (96/354) /content/drive/MyDrive/blind_man/blind_vid2.mp4: 224x416 (no detections), 9.8ms\n",
      "video 1/1 (97/354) /content/drive/MyDrive/blind_man/blind_vid2.mp4: 224x416 (no detections), 15.0ms\n",
      "video 1/1 (98/354) /content/drive/MyDrive/blind_man/blind_vid2.mp4: 224x416 (no detections), 10.8ms\n",
      "video 1/1 (99/354) /content/drive/MyDrive/blind_man/blind_vid2.mp4: 224x416 (no detections), 10.6ms\n",
      "video 1/1 (100/354) /content/drive/MyDrive/blind_man/blind_vid2.mp4: 224x416 (no detections), 10.3ms\n",
      "video 1/1 (101/354) /content/drive/MyDrive/blind_man/blind_vid2.mp4: 224x416 (no detections), 10.3ms\n",
      "video 1/1 (102/354) /content/drive/MyDrive/blind_man/blind_vid2.mp4: 224x416 (no detections), 14.5ms\n",
      "video 1/1 (103/354) /content/drive/MyDrive/blind_man/blind_vid2.mp4: 224x416 (no detections), 15.9ms\n",
      "video 1/1 (104/354) /content/drive/MyDrive/blind_man/blind_vid2.mp4: 224x416 (no detections), 10.4ms\n",
      "video 1/1 (105/354) /content/drive/MyDrive/blind_man/blind_vid2.mp4: 224x416 (no detections), 9.9ms\n",
      "video 1/1 (106/354) /content/drive/MyDrive/blind_man/blind_vid2.mp4: 224x416 (no detections), 10.0ms\n",
      "video 1/1 (107/354) /content/drive/MyDrive/blind_man/blind_vid2.mp4: 224x416 (no detections), 9.7ms\n",
      "video 1/1 (108/354) /content/drive/MyDrive/blind_man/blind_vid2.mp4: 224x416 (no detections), 14.2ms\n",
      "video 1/1 (109/354) /content/drive/MyDrive/blind_man/blind_vid2.mp4: 224x416 (no detections), 10.2ms\n",
      "video 1/1 (110/354) /content/drive/MyDrive/blind_man/blind_vid2.mp4: 224x416 (no detections), 10.2ms\n",
      "video 1/1 (111/354) /content/drive/MyDrive/blind_man/blind_vid2.mp4: 224x416 (no detections), 9.9ms\n",
      "video 1/1 (112/354) /content/drive/MyDrive/blind_man/blind_vid2.mp4: 224x416 (no detections), 9.9ms\n",
      "video 1/1 (113/354) /content/drive/MyDrive/blind_man/blind_vid2.mp4: 224x416 (no detections), 9.8ms\n",
      "video 1/1 (114/354) /content/drive/MyDrive/blind_man/blind_vid2.mp4: 224x416 (no detections), 9.8ms\n",
      "video 1/1 (115/354) /content/drive/MyDrive/blind_man/blind_vid2.mp4: 224x416 (no detections), 12.1ms\n",
      "video 1/1 (116/354) /content/drive/MyDrive/blind_man/blind_vid2.mp4: 224x416 (no detections), 10.1ms\n",
      "video 1/1 (117/354) /content/drive/MyDrive/blind_man/blind_vid2.mp4: 224x416 (no detections), 9.7ms\n",
      "video 1/1 (118/354) /content/drive/MyDrive/blind_man/blind_vid2.mp4: 224x416 (no detections), 13.3ms\n",
      "video 1/1 (119/354) /content/drive/MyDrive/blind_man/blind_vid2.mp4: 224x416 (no detections), 10.3ms\n",
      "video 1/1 (120/354) /content/drive/MyDrive/blind_man/blind_vid2.mp4: 224x416 (no detections), 12.3ms\n",
      "video 1/1 (121/354) /content/drive/MyDrive/blind_man/blind_vid2.mp4: 224x416 (no detections), 9.6ms\n",
      "video 1/1 (122/354) /content/drive/MyDrive/blind_man/blind_vid2.mp4: 224x416 (no detections), 14.0ms\n",
      "video 1/1 (123/354) /content/drive/MyDrive/blind_man/blind_vid2.mp4: 224x416 (no detections), 13.5ms\n",
      "video 1/1 (124/354) /content/drive/MyDrive/blind_man/blind_vid2.mp4: 224x416 (no detections), 11.2ms\n",
      "video 1/1 (125/354) /content/drive/MyDrive/blind_man/blind_vid2.mp4: 224x416 (no detections), 9.5ms\n",
      "video 1/1 (126/354) /content/drive/MyDrive/blind_man/blind_vid2.mp4: 224x416 (no detections), 9.4ms\n",
      "video 1/1 (127/354) /content/drive/MyDrive/blind_man/blind_vid2.mp4: 224x416 (no detections), 9.8ms\n",
      "video 1/1 (128/354) /content/drive/MyDrive/blind_man/blind_vid2.mp4: 224x416 (no detections), 11.0ms\n",
      "video 1/1 (129/354) /content/drive/MyDrive/blind_man/blind_vid2.mp4: 224x416 (no detections), 10.1ms\n",
      "video 1/1 (130/354) /content/drive/MyDrive/blind_man/blind_vid2.mp4: 224x416 (no detections), 9.7ms\n",
      "video 1/1 (131/354) /content/drive/MyDrive/blind_man/blind_vid2.mp4: 224x416 (no detections), 9.5ms\n",
      "video 1/1 (132/354) /content/drive/MyDrive/blind_man/blind_vid2.mp4: 224x416 (no detections), 9.5ms\n",
      "video 1/1 (133/354) /content/drive/MyDrive/blind_man/blind_vid2.mp4: 224x416 (no detections), 9.5ms\n",
      "video 1/1 (134/354) /content/drive/MyDrive/blind_man/blind_vid2.mp4: 224x416 (no detections), 9.6ms\n",
      "video 1/1 (135/354) /content/drive/MyDrive/blind_man/blind_vid2.mp4: 224x416 (no detections), 14.5ms\n",
      "video 1/1 (136/354) /content/drive/MyDrive/blind_man/blind_vid2.mp4: 224x416 (no detections), 15.3ms\n",
      "video 1/1 (137/354) /content/drive/MyDrive/blind_man/blind_vid2.mp4: 224x416 (no detections), 10.1ms\n",
      "video 1/1 (138/354) /content/drive/MyDrive/blind_man/blind_vid2.mp4: 224x416 (no detections), 9.7ms\n",
      "video 1/1 (139/354) /content/drive/MyDrive/blind_man/blind_vid2.mp4: 224x416 1 guide dog, 9.9ms\n",
      "video 1/1 (140/354) /content/drive/MyDrive/blind_man/blind_vid2.mp4: 224x416 1 guide dog, 9.6ms\n",
      "video 1/1 (141/354) /content/drive/MyDrive/blind_man/blind_vid2.mp4: 224x416 1 guide dog, 12.3ms\n",
      "video 1/1 (142/354) /content/drive/MyDrive/blind_man/blind_vid2.mp4: 224x416 1 guide dog, 12.4ms\n",
      "video 1/1 (143/354) /content/drive/MyDrive/blind_man/blind_vid2.mp4: 224x416 1 guide dog, 10.7ms\n",
      "video 1/1 (144/354) /content/drive/MyDrive/blind_man/blind_vid2.mp4: 224x416 1 guide dog, 10.9ms\n",
      "video 1/1 (145/354) /content/drive/MyDrive/blind_man/blind_vid2.mp4: 224x416 1 guide dog, 11.2ms\n",
      "video 1/1 (146/354) /content/drive/MyDrive/blind_man/blind_vid2.mp4: 224x416 1 guide dog, 12.3ms\n",
      "video 1/1 (147/354) /content/drive/MyDrive/blind_man/blind_vid2.mp4: 224x416 1 guide dog, 10.3ms\n",
      "video 1/1 (148/354) /content/drive/MyDrive/blind_man/blind_vid2.mp4: 224x416 1 guide dog, 10.7ms\n",
      "video 1/1 (149/354) /content/drive/MyDrive/blind_man/blind_vid2.mp4: 224x416 1 guide dog, 10.4ms\n",
      "video 1/1 (150/354) /content/drive/MyDrive/blind_man/blind_vid2.mp4: 224x416 1 guide dog, 14.3ms\n",
      "video 1/1 (151/354) /content/drive/MyDrive/blind_man/blind_vid2.mp4: 224x416 1 guide dog, 9.9ms\n",
      "video 1/1 (152/354) /content/drive/MyDrive/blind_man/blind_vid2.mp4: 224x416 1 guide dog, 10.8ms\n",
      "video 1/1 (153/354) /content/drive/MyDrive/blind_man/blind_vid2.mp4: 224x416 1 guide dog, 11.6ms\n",
      "video 1/1 (154/354) /content/drive/MyDrive/blind_man/blind_vid2.mp4: 224x416 1 guide dog, 10.8ms\n",
      "video 1/1 (155/354) /content/drive/MyDrive/blind_man/blind_vid2.mp4: 224x416 1 guide dog, 12.3ms\n",
      "video 1/1 (156/354) /content/drive/MyDrive/blind_man/blind_vid2.mp4: 224x416 1 guide dog, 10.1ms\n",
      "video 1/1 (157/354) /content/drive/MyDrive/blind_man/blind_vid2.mp4: 224x416 1 guide dog, 14.4ms\n",
      "video 1/1 (158/354) /content/drive/MyDrive/blind_man/blind_vid2.mp4: 224x416 1 guide dog, 20.7ms\n",
      "video 1/1 (159/354) /content/drive/MyDrive/blind_man/blind_vid2.mp4: 224x416 1 guide dog, 12.2ms\n",
      "video 1/1 (160/354) /content/drive/MyDrive/blind_man/blind_vid2.mp4: 224x416 1 guide dog, 9.8ms\n",
      "video 1/1 (161/354) /content/drive/MyDrive/blind_man/blind_vid2.mp4: 224x416 1 guide dog, 10.2ms\n",
      "video 1/1 (162/354) /content/drive/MyDrive/blind_man/blind_vid2.mp4: 224x416 1 guide dog, 9.4ms\n",
      "video 1/1 (163/354) /content/drive/MyDrive/blind_man/blind_vid2.mp4: 224x416 1 guide dog, 10.5ms\n",
      "video 1/1 (164/354) /content/drive/MyDrive/blind_man/blind_vid2.mp4: 224x416 1 guide dog, 9.6ms\n",
      "video 1/1 (165/354) /content/drive/MyDrive/blind_man/blind_vid2.mp4: 224x416 1 guide dog, 10.3ms\n",
      "video 1/1 (166/354) /content/drive/MyDrive/blind_man/blind_vid2.mp4: 224x416 1 guide dog, 9.3ms\n",
      "video 1/1 (167/354) /content/drive/MyDrive/blind_man/blind_vid2.mp4: 224x416 1 guide dog, 9.8ms\n",
      "video 1/1 (168/354) /content/drive/MyDrive/blind_man/blind_vid2.mp4: 224x416 1 guide dog, 9.5ms\n",
      "video 1/1 (169/354) /content/drive/MyDrive/blind_man/blind_vid2.mp4: 224x416 1 guide dog, 10.1ms\n",
      "video 1/1 (170/354) /content/drive/MyDrive/blind_man/blind_vid2.mp4: 224x416 1 guide dog, 10.0ms\n",
      "video 1/1 (171/354) /content/drive/MyDrive/blind_man/blind_vid2.mp4: 224x416 1 guide dog, 14.4ms\n",
      "video 1/1 (172/354) /content/drive/MyDrive/blind_man/blind_vid2.mp4: 224x416 1 guide dog, 11.9ms\n",
      "video 1/1 (173/354) /content/drive/MyDrive/blind_man/blind_vid2.mp4: 224x416 1 guide dog, 11.4ms\n",
      "video 1/1 (174/354) /content/drive/MyDrive/blind_man/blind_vid2.mp4: 224x416 1 guide dog, 12.0ms\n",
      "video 1/1 (175/354) /content/drive/MyDrive/blind_man/blind_vid2.mp4: 224x416 1 guide dog, 19.8ms\n",
      "video 1/1 (176/354) /content/drive/MyDrive/blind_man/blind_vid2.mp4: 224x416 1 guide dog, 9.9ms\n",
      "video 1/1 (177/354) /content/drive/MyDrive/blind_man/blind_vid2.mp4: 224x416 1 guide dog, 11.1ms\n",
      "video 1/1 (178/354) /content/drive/MyDrive/blind_man/blind_vid2.mp4: 224x416 1 guide dog, 10.0ms\n",
      "video 1/1 (179/354) /content/drive/MyDrive/blind_man/blind_vid2.mp4: 224x416 1 guide dog, 10.6ms\n",
      "video 1/1 (180/354) /content/drive/MyDrive/blind_man/blind_vid2.mp4: 224x416 1 guide dog, 10.9ms\n",
      "video 1/1 (181/354) /content/drive/MyDrive/blind_man/blind_vid2.mp4: 224x416 1 guide dog, 13.8ms\n",
      "video 1/1 (182/354) /content/drive/MyDrive/blind_man/blind_vid2.mp4: 224x416 1 guide dog, 13.7ms\n",
      "video 1/1 (183/354) /content/drive/MyDrive/blind_man/blind_vid2.mp4: 224x416 1 guide dog, 9.8ms\n",
      "video 1/1 (184/354) /content/drive/MyDrive/blind_man/blind_vid2.mp4: 224x416 1 guide dog, 13.0ms\n",
      "video 1/1 (185/354) /content/drive/MyDrive/blind_man/blind_vid2.mp4: 224x416 1 guide dog, 11.9ms\n",
      "video 1/1 (186/354) /content/drive/MyDrive/blind_man/blind_vid2.mp4: 224x416 1 guide dog, 9.8ms\n",
      "video 1/1 (187/354) /content/drive/MyDrive/blind_man/blind_vid2.mp4: 224x416 1 guide dog, 12.2ms\n",
      "video 1/1 (188/354) /content/drive/MyDrive/blind_man/blind_vid2.mp4: 224x416 1 guide dog, 14.2ms\n",
      "video 1/1 (189/354) /content/drive/MyDrive/blind_man/blind_vid2.mp4: 224x416 1 guide dog, 14.3ms\n",
      "video 1/1 (190/354) /content/drive/MyDrive/blind_man/blind_vid2.mp4: 224x416 1 guide dog, 12.0ms\n",
      "video 1/1 (191/354) /content/drive/MyDrive/blind_man/blind_vid2.mp4: 224x416 1 guide dog, 16.3ms\n",
      "video 1/1 (192/354) /content/drive/MyDrive/blind_man/blind_vid2.mp4: 224x416 1 guide dog, 11.8ms\n",
      "video 1/1 (193/354) /content/drive/MyDrive/blind_man/blind_vid2.mp4: 224x416 1 guide dog, 12.8ms\n",
      "video 1/1 (194/354) /content/drive/MyDrive/blind_man/blind_vid2.mp4: 224x416 1 guide dog, 8.0ms\n",
      "video 1/1 (195/354) /content/drive/MyDrive/blind_man/blind_vid2.mp4: 224x416 1 guide dog, 8.5ms\n",
      "video 1/1 (196/354) /content/drive/MyDrive/blind_man/blind_vid2.mp4: 224x416 1 guide dog, 7.9ms\n",
      "video 1/1 (197/354) /content/drive/MyDrive/blind_man/blind_vid2.mp4: 224x416 1 guide dog, 8.2ms\n",
      "video 1/1 (198/354) /content/drive/MyDrive/blind_man/blind_vid2.mp4: 224x416 1 guide dog, 8.0ms\n",
      "video 1/1 (199/354) /content/drive/MyDrive/blind_man/blind_vid2.mp4: 224x416 1 guide dog, 8.2ms\n",
      "video 1/1 (200/354) /content/drive/MyDrive/blind_man/blind_vid2.mp4: 224x416 1 guide dog, 9.3ms\n",
      "video 1/1 (201/354) /content/drive/MyDrive/blind_man/blind_vid2.mp4: 224x416 1 guide dog, 7.8ms\n",
      "video 1/1 (202/354) /content/drive/MyDrive/blind_man/blind_vid2.mp4: 224x416 1 guide dog, 8.0ms\n",
      "video 1/1 (203/354) /content/drive/MyDrive/blind_man/blind_vid2.mp4: 224x416 1 guide dog, 10.8ms\n",
      "video 1/1 (204/354) /content/drive/MyDrive/blind_man/blind_vid2.mp4: 224x416 1 guide dog, 10.0ms\n",
      "video 1/1 (205/354) /content/drive/MyDrive/blind_man/blind_vid2.mp4: 224x416 1 guide dog, 11.7ms\n",
      "video 1/1 (206/354) /content/drive/MyDrive/blind_man/blind_vid2.mp4: 224x416 (no detections), 8.3ms\n",
      "video 1/1 (207/354) /content/drive/MyDrive/blind_man/blind_vid2.mp4: 224x416 (no detections), 8.5ms\n",
      "video 1/1 (208/354) /content/drive/MyDrive/blind_man/blind_vid2.mp4: 224x416 (no detections), 8.2ms\n",
      "video 1/1 (209/354) /content/drive/MyDrive/blind_man/blind_vid2.mp4: 224x416 (no detections), 11.8ms\n",
      "video 1/1 (210/354) /content/drive/MyDrive/blind_man/blind_vid2.mp4: 224x416 (no detections), 8.0ms\n",
      "video 1/1 (211/354) /content/drive/MyDrive/blind_man/blind_vid2.mp4: 224x416 (no detections), 8.8ms\n",
      "video 1/1 (212/354) /content/drive/MyDrive/blind_man/blind_vid2.mp4: 224x416 (no detections), 9.8ms\n",
      "video 1/1 (213/354) /content/drive/MyDrive/blind_man/blind_vid2.mp4: 224x416 (no detections), 8.2ms\n",
      "video 1/1 (214/354) /content/drive/MyDrive/blind_man/blind_vid2.mp4: 224x416 (no detections), 8.3ms\n",
      "video 1/1 (215/354) /content/drive/MyDrive/blind_man/blind_vid2.mp4: 224x416 (no detections), 8.7ms\n",
      "video 1/1 (216/354) /content/drive/MyDrive/blind_man/blind_vid2.mp4: 224x416 (no detections), 8.0ms\n",
      "video 1/1 (217/354) /content/drive/MyDrive/blind_man/blind_vid2.mp4: 224x416 (no detections), 8.3ms\n",
      "video 1/1 (218/354) /content/drive/MyDrive/blind_man/blind_vid2.mp4: 224x416 (no detections), 8.4ms\n",
      "video 1/1 (219/354) /content/drive/MyDrive/blind_man/blind_vid2.mp4: 224x416 (no detections), 9.8ms\n",
      "video 1/1 (220/354) /content/drive/MyDrive/blind_man/blind_vid2.mp4: 224x416 (no detections), 8.9ms\n",
      "video 1/1 (221/354) /content/drive/MyDrive/blind_man/blind_vid2.mp4: 224x416 (no detections), 8.3ms\n",
      "video 1/1 (222/354) /content/drive/MyDrive/blind_man/blind_vid2.mp4: 224x416 (no detections), 8.4ms\n",
      "video 1/1 (223/354) /content/drive/MyDrive/blind_man/blind_vid2.mp4: 224x416 (no detections), 13.9ms\n",
      "video 1/1 (224/354) /content/drive/MyDrive/blind_man/blind_vid2.mp4: 224x416 (no detections), 9.0ms\n",
      "video 1/1 (225/354) /content/drive/MyDrive/blind_man/blind_vid2.mp4: 224x416 (no detections), 10.1ms\n",
      "video 1/1 (226/354) /content/drive/MyDrive/blind_man/blind_vid2.mp4: 224x416 (no detections), 8.7ms\n",
      "video 1/1 (227/354) /content/drive/MyDrive/blind_man/blind_vid2.mp4: 224x416 (no detections), 8.5ms\n",
      "video 1/1 (228/354) /content/drive/MyDrive/blind_man/blind_vid2.mp4: 224x416 (no detections), 9.4ms\n",
      "video 1/1 (229/354) /content/drive/MyDrive/blind_man/blind_vid2.mp4: 224x416 (no detections), 9.4ms\n",
      "video 1/1 (230/354) /content/drive/MyDrive/blind_man/blind_vid2.mp4: 224x416 (no detections), 8.7ms\n",
      "video 1/1 (231/354) /content/drive/MyDrive/blind_man/blind_vid2.mp4: 224x416 (no detections), 9.5ms\n",
      "video 1/1 (232/354) /content/drive/MyDrive/blind_man/blind_vid2.mp4: 224x416 (no detections), 16.4ms\n",
      "video 1/1 (233/354) /content/drive/MyDrive/blind_man/blind_vid2.mp4: 224x416 (no detections), 10.8ms\n",
      "video 1/1 (234/354) /content/drive/MyDrive/blind_man/blind_vid2.mp4: 224x416 (no detections), 9.6ms\n",
      "video 1/1 (235/354) /content/drive/MyDrive/blind_man/blind_vid2.mp4: 224x416 (no detections), 10.4ms\n",
      "video 1/1 (236/354) /content/drive/MyDrive/blind_man/blind_vid2.mp4: 224x416 (no detections), 9.1ms\n",
      "video 1/1 (237/354) /content/drive/MyDrive/blind_man/blind_vid2.mp4: 224x416 (no detections), 11.7ms\n",
      "video 1/1 (238/354) /content/drive/MyDrive/blind_man/blind_vid2.mp4: 224x416 (no detections), 9.7ms\n",
      "video 1/1 (239/354) /content/drive/MyDrive/blind_man/blind_vid2.mp4: 224x416 (no detections), 9.8ms\n",
      "video 1/1 (240/354) /content/drive/MyDrive/blind_man/blind_vid2.mp4: 224x416 (no detections), 9.6ms\n",
      "video 1/1 (241/354) /content/drive/MyDrive/blind_man/blind_vid2.mp4: 224x416 (no detections), 9.1ms\n",
      "video 1/1 (242/354) /content/drive/MyDrive/blind_man/blind_vid2.mp4: 224x416 (no detections), 8.1ms\n",
      "video 1/1 (243/354) /content/drive/MyDrive/blind_man/blind_vid2.mp4: 224x416 (no detections), 9.0ms\n",
      "video 1/1 (244/354) /content/drive/MyDrive/blind_man/blind_vid2.mp4: 224x416 (no detections), 12.8ms\n",
      "video 1/1 (245/354) /content/drive/MyDrive/blind_man/blind_vid2.mp4: 224x416 (no detections), 10.7ms\n",
      "video 1/1 (246/354) /content/drive/MyDrive/blind_man/blind_vid2.mp4: 224x416 (no detections), 8.3ms\n",
      "video 1/1 (247/354) /content/drive/MyDrive/blind_man/blind_vid2.mp4: 224x416 (no detections), 10.2ms\n",
      "video 1/1 (248/354) /content/drive/MyDrive/blind_man/blind_vid2.mp4: 224x416 (no detections), 8.4ms\n",
      "video 1/1 (249/354) /content/drive/MyDrive/blind_man/blind_vid2.mp4: 224x416 (no detections), 9.2ms\n",
      "video 1/1 (250/354) /content/drive/MyDrive/blind_man/blind_vid2.mp4: 224x416 (no detections), 12.2ms\n",
      "video 1/1 (251/354) /content/drive/MyDrive/blind_man/blind_vid2.mp4: 224x416 (no detections), 9.2ms\n",
      "video 1/1 (252/354) /content/drive/MyDrive/blind_man/blind_vid2.mp4: 224x416 (no detections), 12.7ms\n",
      "video 1/1 (253/354) /content/drive/MyDrive/blind_man/blind_vid2.mp4: 224x416 (no detections), 13.6ms\n",
      "video 1/1 (254/354) /content/drive/MyDrive/blind_man/blind_vid2.mp4: 224x416 (no detections), 8.6ms\n",
      "video 1/1 (255/354) /content/drive/MyDrive/blind_man/blind_vid2.mp4: 224x416 (no detections), 9.2ms\n",
      "video 1/1 (256/354) /content/drive/MyDrive/blind_man/blind_vid2.mp4: 224x416 (no detections), 9.5ms\n",
      "video 1/1 (257/354) /content/drive/MyDrive/blind_man/blind_vid2.mp4: 224x416 (no detections), 8.9ms\n",
      "video 1/1 (258/354) /content/drive/MyDrive/blind_man/blind_vid2.mp4: 224x416 (no detections), 8.5ms\n",
      "video 1/1 (259/354) /content/drive/MyDrive/blind_man/blind_vid2.mp4: 224x416 (no detections), 9.1ms\n",
      "video 1/1 (260/354) /content/drive/MyDrive/blind_man/blind_vid2.mp4: 224x416 (no detections), 8.5ms\n",
      "video 1/1 (261/354) /content/drive/MyDrive/blind_man/blind_vid2.mp4: 224x416 (no detections), 8.6ms\n",
      "video 1/1 (262/354) /content/drive/MyDrive/blind_man/blind_vid2.mp4: 224x416 (no detections), 9.4ms\n",
      "video 1/1 (263/354) /content/drive/MyDrive/blind_man/blind_vid2.mp4: 224x416 (no detections), 17.4ms\n",
      "video 1/1 (264/354) /content/drive/MyDrive/blind_man/blind_vid2.mp4: 224x416 (no detections), 10.6ms\n",
      "video 1/1 (265/354) /content/drive/MyDrive/blind_man/blind_vid2.mp4: 224x416 (no detections), 9.3ms\n",
      "video 1/1 (266/354) /content/drive/MyDrive/blind_man/blind_vid2.mp4: 224x416 (no detections), 8.4ms\n",
      "video 1/1 (267/354) /content/drive/MyDrive/blind_man/blind_vid2.mp4: 224x416 (no detections), 9.9ms\n",
      "video 1/1 (268/354) /content/drive/MyDrive/blind_man/blind_vid2.mp4: 224x416 (no detections), 9.3ms\n",
      "video 1/1 (269/354) /content/drive/MyDrive/blind_man/blind_vid2.mp4: 224x416 (no detections), 9.2ms\n",
      "video 1/1 (270/354) /content/drive/MyDrive/blind_man/blind_vid2.mp4: 224x416 (no detections), 11.2ms\n",
      "video 1/1 (271/354) /content/drive/MyDrive/blind_man/blind_vid2.mp4: 224x416 (no detections), 10.6ms\n",
      "video 1/1 (272/354) /content/drive/MyDrive/blind_man/blind_vid2.mp4: 224x416 (no detections), 9.0ms\n",
      "video 1/1 (273/354) /content/drive/MyDrive/blind_man/blind_vid2.mp4: 224x416 (no detections), 8.6ms\n",
      "video 1/1 (274/354) /content/drive/MyDrive/blind_man/blind_vid2.mp4: 224x416 (no detections), 8.0ms\n",
      "video 1/1 (275/354) /content/drive/MyDrive/blind_man/blind_vid2.mp4: 224x416 (no detections), 9.7ms\n",
      "video 1/1 (276/354) /content/drive/MyDrive/blind_man/blind_vid2.mp4: 224x416 (no detections), 15.3ms\n",
      "video 1/1 (277/354) /content/drive/MyDrive/blind_man/blind_vid2.mp4: 224x416 (no detections), 8.6ms\n",
      "video 1/1 (278/354) /content/drive/MyDrive/blind_man/blind_vid2.mp4: 224x416 (no detections), 8.6ms\n",
      "video 1/1 (279/354) /content/drive/MyDrive/blind_man/blind_vid2.mp4: 224x416 (no detections), 9.1ms\n",
      "video 1/1 (280/354) /content/drive/MyDrive/blind_man/blind_vid2.mp4: 224x416 (no detections), 10.7ms\n",
      "video 1/1 (281/354) /content/drive/MyDrive/blind_man/blind_vid2.mp4: 224x416 (no detections), 8.7ms\n",
      "video 1/1 (282/354) /content/drive/MyDrive/blind_man/blind_vid2.mp4: 224x416 (no detections), 7.7ms\n",
      "video 1/1 (283/354) /content/drive/MyDrive/blind_man/blind_vid2.mp4: 224x416 (no detections), 9.2ms\n",
      "video 1/1 (284/354) /content/drive/MyDrive/blind_man/blind_vid2.mp4: 224x416 (no detections), 13.5ms\n",
      "video 1/1 (285/354) /content/drive/MyDrive/blind_man/blind_vid2.mp4: 224x416 (no detections), 8.4ms\n",
      "video 1/1 (286/354) /content/drive/MyDrive/blind_man/blind_vid2.mp4: 224x416 (no detections), 7.9ms\n",
      "video 1/1 (287/354) /content/drive/MyDrive/blind_man/blind_vid2.mp4: 224x416 (no detections), 8.7ms\n",
      "video 1/1 (288/354) /content/drive/MyDrive/blind_man/blind_vid2.mp4: 224x416 1 guide dog, 8.4ms\n",
      "video 1/1 (289/354) /content/drive/MyDrive/blind_man/blind_vid2.mp4: 224x416 1 guide dog, 12.9ms\n",
      "video 1/1 (290/354) /content/drive/MyDrive/blind_man/blind_vid2.mp4: 224x416 1 guide dog, 10.1ms\n",
      "video 1/1 (291/354) /content/drive/MyDrive/blind_man/blind_vid2.mp4: 224x416 1 guide dog, 8.3ms\n",
      "video 1/1 (292/354) /content/drive/MyDrive/blind_man/blind_vid2.mp4: 224x416 1 guide dog, 8.8ms\n",
      "video 1/1 (293/354) /content/drive/MyDrive/blind_man/blind_vid2.mp4: 224x416 1 guide dog, 8.6ms\n",
      "video 1/1 (294/354) /content/drive/MyDrive/blind_man/blind_vid2.mp4: 224x416 1 guide dog, 8.5ms\n",
      "video 1/1 (295/354) /content/drive/MyDrive/blind_man/blind_vid2.mp4: 224x416 1 guide dog, 9.1ms\n",
      "video 1/1 (296/354) /content/drive/MyDrive/blind_man/blind_vid2.mp4: 224x416 (no detections), 8.8ms\n",
      "video 1/1 (297/354) /content/drive/MyDrive/blind_man/blind_vid2.mp4: 224x416 (no detections), 13.2ms\n",
      "video 1/1 (298/354) /content/drive/MyDrive/blind_man/blind_vid2.mp4: 224x416 (no detections), 8.5ms\n",
      "video 1/1 (299/354) /content/drive/MyDrive/blind_man/blind_vid2.mp4: 224x416 1 guide dog, 9.0ms\n",
      "video 1/1 (300/354) /content/drive/MyDrive/blind_man/blind_vid2.mp4: 224x416 (no detections), 8.8ms\n",
      "video 1/1 (301/354) /content/drive/MyDrive/blind_man/blind_vid2.mp4: 224x416 (no detections), 9.2ms\n",
      "video 1/1 (302/354) /content/drive/MyDrive/blind_man/blind_vid2.mp4: 224x416 (no detections), 8.5ms\n",
      "video 1/1 (303/354) /content/drive/MyDrive/blind_man/blind_vid2.mp4: 224x416 (no detections), 8.8ms\n",
      "video 1/1 (304/354) /content/drive/MyDrive/blind_man/blind_vid2.mp4: 224x416 (no detections), 8.9ms\n",
      "video 1/1 (305/354) /content/drive/MyDrive/blind_man/blind_vid2.mp4: 224x416 (no detections), 9.2ms\n",
      "video 1/1 (306/354) /content/drive/MyDrive/blind_man/blind_vid2.mp4: 224x416 (no detections), 8.8ms\n",
      "video 1/1 (307/354) /content/drive/MyDrive/blind_man/blind_vid2.mp4: 224x416 (no detections), 11.3ms\n",
      "video 1/1 (308/354) /content/drive/MyDrive/blind_man/blind_vid2.mp4: 224x416 (no detections), 8.8ms\n",
      "video 1/1 (309/354) /content/drive/MyDrive/blind_man/blind_vid2.mp4: 224x416 (no detections), 9.4ms\n",
      "video 1/1 (310/354) /content/drive/MyDrive/blind_man/blind_vid2.mp4: 224x416 (no detections), 8.4ms\n",
      "video 1/1 (311/354) /content/drive/MyDrive/blind_man/blind_vid2.mp4: 224x416 (no detections), 15.1ms\n",
      "video 1/1 (312/354) /content/drive/MyDrive/blind_man/blind_vid2.mp4: 224x416 (no detections), 8.8ms\n",
      "video 1/1 (313/354) /content/drive/MyDrive/blind_man/blind_vid2.mp4: 224x416 (no detections), 9.7ms\n",
      "video 1/1 (314/354) /content/drive/MyDrive/blind_man/blind_vid2.mp4: 224x416 (no detections), 8.5ms\n",
      "video 1/1 (315/354) /content/drive/MyDrive/blind_man/blind_vid2.mp4: 224x416 (no detections), 9.5ms\n",
      "video 1/1 (316/354) /content/drive/MyDrive/blind_man/blind_vid2.mp4: 224x416 (no detections), 8.6ms\n",
      "video 1/1 (317/354) /content/drive/MyDrive/blind_man/blind_vid2.mp4: 224x416 (no detections), 9.7ms\n",
      "video 1/1 (318/354) /content/drive/MyDrive/blind_man/blind_vid2.mp4: 224x416 (no detections), 8.2ms\n",
      "video 1/1 (319/354) /content/drive/MyDrive/blind_man/blind_vid2.mp4: 224x416 (no detections), 8.7ms\n",
      "video 1/1 (320/354) /content/drive/MyDrive/blind_man/blind_vid2.mp4: 224x416 (no detections), 8.8ms\n",
      "video 1/1 (321/354) /content/drive/MyDrive/blind_man/blind_vid2.mp4: 224x416 1 guide dog, 11.6ms\n",
      "video 1/1 (322/354) /content/drive/MyDrive/blind_man/blind_vid2.mp4: 224x416 (no detections), 14.0ms\n",
      "video 1/1 (323/354) /content/drive/MyDrive/blind_man/blind_vid2.mp4: 224x416 (no detections), 11.5ms\n",
      "video 1/1 (324/354) /content/drive/MyDrive/blind_man/blind_vid2.mp4: 224x416 1 guide dog, 8.5ms\n",
      "video 1/1 (325/354) /content/drive/MyDrive/blind_man/blind_vid2.mp4: 224x416 1 guide dog, 8.9ms\n",
      "video 1/1 (326/354) /content/drive/MyDrive/blind_man/blind_vid2.mp4: 224x416 (no detections), 8.5ms\n",
      "video 1/1 (327/354) /content/drive/MyDrive/blind_man/blind_vid2.mp4: 224x416 (no detections), 8.8ms\n",
      "video 1/1 (328/354) /content/drive/MyDrive/blind_man/blind_vid2.mp4: 224x416 1 guide dog, 9.0ms\n",
      "video 1/1 (329/354) /content/drive/MyDrive/blind_man/blind_vid2.mp4: 224x416 1 guide dog, 8.5ms\n",
      "video 1/1 (330/354) /content/drive/MyDrive/blind_man/blind_vid2.mp4: 224x416 1 guide dog, 7.9ms\n",
      "video 1/1 (331/354) /content/drive/MyDrive/blind_man/blind_vid2.mp4: 224x416 1 guide dog, 9.4ms\n",
      "video 1/1 (332/354) /content/drive/MyDrive/blind_man/blind_vid2.mp4: 224x416 (no detections), 8.2ms\n",
      "video 1/1 (333/354) /content/drive/MyDrive/blind_man/blind_vid2.mp4: 224x416 1 guide dog, 10.6ms\n",
      "video 1/1 (334/354) /content/drive/MyDrive/blind_man/blind_vid2.mp4: 224x416 1 guide dog, 8.0ms\n",
      "video 1/1 (335/354) /content/drive/MyDrive/blind_man/blind_vid2.mp4: 224x416 1 guide dog, 8.4ms\n",
      "video 1/1 (336/354) /content/drive/MyDrive/blind_man/blind_vid2.mp4: 224x416 1 guide dog, 8.2ms\n",
      "video 1/1 (337/354) /content/drive/MyDrive/blind_man/blind_vid2.mp4: 224x416 (no detections), 14.3ms\n",
      "video 1/1 (338/354) /content/drive/MyDrive/blind_man/blind_vid2.mp4: 224x416 1 guide dog, 8.4ms\n",
      "video 1/1 (339/354) /content/drive/MyDrive/blind_man/blind_vid2.mp4: 224x416 1 guide dog, 8.7ms\n",
      "video 1/1 (340/354) /content/drive/MyDrive/blind_man/blind_vid2.mp4: 224x416 1 guide dog, 8.2ms\n",
      "video 1/1 (341/354) /content/drive/MyDrive/blind_man/blind_vid2.mp4: 224x416 1 guide dog, 8.5ms\n",
      "video 1/1 (342/354) /content/drive/MyDrive/blind_man/blind_vid2.mp4: 224x416 1 guide dog, 8.1ms\n",
      "video 1/1 (343/354) /content/drive/MyDrive/blind_man/blind_vid2.mp4: 224x416 1 guide dog, 10.3ms\n",
      "video 1/1 (344/354) /content/drive/MyDrive/blind_man/blind_vid2.mp4: 224x416 1 guide dog, 8.6ms\n",
      "video 1/1 (345/354) /content/drive/MyDrive/blind_man/blind_vid2.mp4: 224x416 1 guide dog, 8.9ms\n",
      "video 1/1 (346/354) /content/drive/MyDrive/blind_man/blind_vid2.mp4: 224x416 1 guide dog, 8.9ms\n",
      "video 1/1 (347/354) /content/drive/MyDrive/blind_man/blind_vid2.mp4: 224x416 1 guide dog, 9.6ms\n",
      "video 1/1 (348/354) /content/drive/MyDrive/blind_man/blind_vid2.mp4: 224x416 1 guide dog, 8.5ms\n",
      "video 1/1 (349/354) /content/drive/MyDrive/blind_man/blind_vid2.mp4: 224x416 1 guide dog, 9.5ms\n",
      "video 1/1 (350/354) /content/drive/MyDrive/blind_man/blind_vid2.mp4: 224x416 1 guide dog, 8.5ms\n",
      "video 1/1 (351/354) /content/drive/MyDrive/blind_man/blind_vid2.mp4: 224x416 1 guide dog, 11.6ms\n",
      "video 1/1 (352/354) /content/drive/MyDrive/blind_man/blind_vid2.mp4: 224x416 (no detections), 8.8ms\n",
      "video 1/1 (353/354) /content/drive/MyDrive/blind_man/blind_vid2.mp4: 224x416 1 guide dog, 8.5ms\n",
      "video 1/1 (354/354) /content/drive/MyDrive/blind_man/blind_vid2.mp4: 224x416 1 guide dog, 8.6ms\n",
      "Speed: 0.3ms pre-process, 10.7ms inference, 2.3ms NMS per image at shape (1, 3, 416, 416)\n",
      "Results saved to \u001b[1m/content/result_image\u001b[0m\n"
     ]
    }
   ],
   "source": [
    "!python detect.py --source '{TEST_VIDEO_PATH2}'  --weights /content/yolov5/runs/train/blind_man/weights/best.pt  --img 416  --conf 0.5 --project /content/ --name=result_image --exist-ok --line-thickness 5"
   ]
  },
  {
   "cell_type": "code",
   "execution_count": 19,
   "metadata": {
    "executionInfo": {
     "elapsed": 10,
     "status": "ok",
     "timestamp": 1703131026408,
     "user": {
      "displayName": "안이",
      "userId": "11737815484813947023"
     },
     "user_tz": -540
    },
    "id": "x-Q1wKZ2A12s"
   },
   "outputs": [],
   "source": [
    "detect_video = '/content/result_image/blind_vid2.mp4' # 경로 수정\n",
    "\n",
    "# 비디오 데이터 압축 (Colab에서 실행 목적)\n",
    "def video_compressing(detect_video):\n",
    "  compressed_video = detect_video[:-4] + \"_compressed.mp4\"\n",
    "  os.system(f\"ffmpeg -i {detect_video} -vcodec libx264 {compressed_video}\")\n",
    "\n",
    "  return compressed_video"
   ]
  },
  {
   "cell_type": "code",
   "execution_count": null,
   "metadata": {
    "colab": {
     "background_save": true,
     "output_embedded_package_id": "1olcNa_m5JaCvuqnVgoTowovXu3WQJlYh"
    },
    "id": "pQr1vwHJA4f3",
    "outputId": "1a49c960-0e37-4e0b-a8d0-5a9d0f97cb59"
   },
   "outputs": [],
   "source": [
    "import os\n",
    "compressed_video = video_compressing(detect_video)\n",
    "\n",
    "from IPython.display import HTML\n",
    "from base64 import b64encode\n",
    "\n",
    "mp4 = open(compressed_video,'rb').read()\n",
    "data_url = \"data:video/mp4;base64,\" + b64encode(mp4).decode()\n",
    "HTML(\"\"\"\n",
    "<video width=400 controls>\n",
    "    <source src=\"%s\" type=\"video/mp4\">\n",
    "</video>\n",
    "\"\"\" % data_url)"
   ]
  },
  {
   "cell_type": "code",
   "execution_count": null,
   "metadata": {
    "colab": {
     "background_save": true
    },
    "id": "-dQ3WNO0BSpa"
   },
   "outputs": [],
   "source": []
  }
 ],
 "metadata": {
  "accelerator": "GPU",
  "colab": {
   "authorship_tag": "ABX9TyNHOTYY4svh4fN8yD8QQVDz",
   "name": "",
   "version": ""
  },
  "kernelspec": {
   "display_name": "Python 3 (ipykernel)",
   "language": "python",
   "name": "python3"
  },
  "language_info": {
   "codemirror_mode": {
    "name": "ipython",
    "version": 3
   },
   "file_extension": ".py",
   "mimetype": "text/x-python",
   "name": "python",
   "nbconvert_exporter": "python",
   "pygments_lexer": "ipython3",
   "version": "3.11.3"
  }
 },
 "nbformat": 4,
 "nbformat_minor": 4
}
